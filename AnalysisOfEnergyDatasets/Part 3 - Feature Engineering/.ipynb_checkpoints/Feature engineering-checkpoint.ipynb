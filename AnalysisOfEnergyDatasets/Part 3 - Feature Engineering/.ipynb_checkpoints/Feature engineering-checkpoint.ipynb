{
 "cells": [
  {
   "cell_type": "markdown",
   "metadata": {},
   "source": [
    "# Feature "
   ]
  },
  {
   "cell_type": "markdown",
   "metadata": {},
   "source": [
    "Importing Libraries"
   ]
  },
  {
   "cell_type": "code",
   "execution_count": 27,
   "metadata": {},
   "outputs": [],
   "source": [
    "import pandas as pd\n",
    "import datetime\n",
    "import numpy as np\n",
    "import matplotlib.pyplot as plt\n",
    "import sklearn\n",
    "from sklearn.cross_validation import train_test_split \n",
    "from sklearn.ensemble import RandomForestRegressor\n",
    "from sklearn.model_selection import RandomizedSearchCV\n",
    "from sklearn.grid_search import GridSearchCV\n",
    "from sklearn import linear_model\n",
    "from sklearn.metrics import *\n",
    "from sklearn.neural_network import MLPRegressor\n",
    "from sklearn.preprocessing import StandardScaler\n",
    "scaler = StandardScaler()\n",
    "from tkinter import filedialog\n",
    "from tkinter import *"
   ]
  },
  {
   "cell_type": "markdown",
   "metadata": {},
   "source": [
    "List of Customised function used"
   ]
  },
  {
   "cell_type": "code",
   "execution_count": 28,
   "metadata": {
    "collapsed": true
   },
   "outputs": [],
   "source": [
    "def mean_absolute_percentage_error(y_true, y_pred): \n",
    "        y_true, y_pred = np.array(y_true), np.array(y_pred)\n",
    "        return np.mean(np.abs((y_true - y_pred) / y_true)) * 100\n",
    "weekend = ['Saturday','Sunday']\n",
    "def week_day_type(x):\n",
    "    if x in weekend:\n",
    "        return 'weekends'\n",
    "    else:\n",
    "        return 'weekdays'\n",
    "morning=range(6,12)\n",
    "afternoon=range(12,17)\n",
    "evening=range(17,22)\n",
    "def time_slot(x):\n",
    "    if x in morning:\n",
    "        return 'morning'\n",
    "    elif x in afternoon:\n",
    "        return 'afternoon'\n",
    "    elif x in evening:\n",
    "        return 'evening'\n",
    "    else:\n",
    "        return 'night'  "
   ]
  },
  {
   "cell_type": "markdown",
   "metadata": {},
   "source": [
    "Reading the csv file and loading it into a dataframe"
   ]
  },
  {
   "cell_type": "code",
   "execution_count": 29,
   "metadata": {},
   "outputs": [
    {
     "name": "stdout",
     "output_type": "stream",
     "text": [
      "C:/Users/Akash/Documents/ADS/Assignment-2-master/energydata_complete.csv\n"
     ]
    }
   ],
   "source": [
    "root = Tk()\n",
    "root.filename =  filedialog.askopenfilename(initialdir = \"/\",title = \"Select file\",filetypes = ((\"csv files\",\"*.csv\"),(\"all files\",\"*.*\")))\n",
    "print (root.filename)\n",
    "df=pd.read_csv(root.filename)\n",
    "root.after(30, lambda: root.destroy())\n",
    "root.mainloop()"
   ]
  },
  {
   "cell_type": "markdown",
   "metadata": {},
   "source": [
    "Creating additional features and dummy columns in the data so as to get more insights."
   ]
  },
  {
   "cell_type": "code",
   "execution_count": 30,
   "metadata": {},
   "outputs": [
    {
     "name": "stdout",
     "output_type": "stream",
     "text": [
      "rows,columns : (19735, 46)\n"
     ]
    }
   ],
   "source": [
    "df['date']=pd.to_datetime(df['date'])\n",
    "df['year']=df['date'].dt.year\n",
    "df['month']=df['date'].dt.month\n",
    "df['day']=df['date'].dt.day\n",
    "df['day_of_week']=df['date'].dt.weekday_name\n",
    "df['time_hr_24']=df['date'].dt.hour\n",
    "df['time_min']=df['date'].dt.minute\n",
    "df['week_day_type']=df['day_of_week'].map(week_day_type)  \n",
    "df['time_slot']=df['time_hr_24'].map(time_slot)\n",
    "df.drop(['date'],axis=1,inplace=True)\n",
    "df=pd.get_dummies(df,prefix=['DOW','TS','WDT'],columns=['day_of_week','time_slot','week_day_type'])\n",
    "print(\"rows,columns :\",df.shape)"
   ]
  },
  {
   "cell_type": "markdown",
   "metadata": {},
   "source": [
    "Let's check what the dataset contains."
   ]
  },
  {
   "cell_type": "code",
   "execution_count": 31,
   "metadata": {},
   "outputs": [
    {
     "data": {
      "text/html": [
       "<div>\n",
       "<style>\n",
       "    .dataframe thead tr:only-child th {\n",
       "        text-align: right;\n",
       "    }\n",
       "\n",
       "    .dataframe thead th {\n",
       "        text-align: left;\n",
       "    }\n",
       "\n",
       "    .dataframe tbody tr th {\n",
       "        vertical-align: top;\n",
       "    }\n",
       "</style>\n",
       "<table border=\"1\" class=\"dataframe\">\n",
       "  <thead>\n",
       "    <tr style=\"text-align: right;\">\n",
       "      <th></th>\n",
       "      <th>Appliances</th>\n",
       "      <th>lights</th>\n",
       "      <th>T1</th>\n",
       "      <th>RH_1</th>\n",
       "      <th>T2</th>\n",
       "      <th>RH_2</th>\n",
       "      <th>T3</th>\n",
       "      <th>RH_3</th>\n",
       "      <th>T4</th>\n",
       "      <th>RH_4</th>\n",
       "      <th>...</th>\n",
       "      <th>DOW_Sunday</th>\n",
       "      <th>DOW_Thursday</th>\n",
       "      <th>DOW_Tuesday</th>\n",
       "      <th>DOW_Wednesday</th>\n",
       "      <th>TS_afternoon</th>\n",
       "      <th>TS_evening</th>\n",
       "      <th>TS_morning</th>\n",
       "      <th>TS_night</th>\n",
       "      <th>WDT_weekdays</th>\n",
       "      <th>WDT_weekends</th>\n",
       "    </tr>\n",
       "  </thead>\n",
       "  <tbody>\n",
       "    <tr>\n",
       "      <th>0</th>\n",
       "      <td>60</td>\n",
       "      <td>30</td>\n",
       "      <td>19.89</td>\n",
       "      <td>47.596667</td>\n",
       "      <td>19.2</td>\n",
       "      <td>44.790000</td>\n",
       "      <td>19.79</td>\n",
       "      <td>44.730000</td>\n",
       "      <td>19.000000</td>\n",
       "      <td>45.566667</td>\n",
       "      <td>...</td>\n",
       "      <td>0</td>\n",
       "      <td>0</td>\n",
       "      <td>0</td>\n",
       "      <td>0</td>\n",
       "      <td>0</td>\n",
       "      <td>1</td>\n",
       "      <td>0</td>\n",
       "      <td>0</td>\n",
       "      <td>1</td>\n",
       "      <td>0</td>\n",
       "    </tr>\n",
       "    <tr>\n",
       "      <th>1</th>\n",
       "      <td>60</td>\n",
       "      <td>30</td>\n",
       "      <td>19.89</td>\n",
       "      <td>46.693333</td>\n",
       "      <td>19.2</td>\n",
       "      <td>44.722500</td>\n",
       "      <td>19.79</td>\n",
       "      <td>44.790000</td>\n",
       "      <td>19.000000</td>\n",
       "      <td>45.992500</td>\n",
       "      <td>...</td>\n",
       "      <td>0</td>\n",
       "      <td>0</td>\n",
       "      <td>0</td>\n",
       "      <td>0</td>\n",
       "      <td>0</td>\n",
       "      <td>1</td>\n",
       "      <td>0</td>\n",
       "      <td>0</td>\n",
       "      <td>1</td>\n",
       "      <td>0</td>\n",
       "    </tr>\n",
       "    <tr>\n",
       "      <th>2</th>\n",
       "      <td>50</td>\n",
       "      <td>30</td>\n",
       "      <td>19.89</td>\n",
       "      <td>46.300000</td>\n",
       "      <td>19.2</td>\n",
       "      <td>44.626667</td>\n",
       "      <td>19.79</td>\n",
       "      <td>44.933333</td>\n",
       "      <td>18.926667</td>\n",
       "      <td>45.890000</td>\n",
       "      <td>...</td>\n",
       "      <td>0</td>\n",
       "      <td>0</td>\n",
       "      <td>0</td>\n",
       "      <td>0</td>\n",
       "      <td>0</td>\n",
       "      <td>1</td>\n",
       "      <td>0</td>\n",
       "      <td>0</td>\n",
       "      <td>1</td>\n",
       "      <td>0</td>\n",
       "    </tr>\n",
       "    <tr>\n",
       "      <th>3</th>\n",
       "      <td>50</td>\n",
       "      <td>40</td>\n",
       "      <td>19.89</td>\n",
       "      <td>46.066667</td>\n",
       "      <td>19.2</td>\n",
       "      <td>44.590000</td>\n",
       "      <td>19.79</td>\n",
       "      <td>45.000000</td>\n",
       "      <td>18.890000</td>\n",
       "      <td>45.723333</td>\n",
       "      <td>...</td>\n",
       "      <td>0</td>\n",
       "      <td>0</td>\n",
       "      <td>0</td>\n",
       "      <td>0</td>\n",
       "      <td>0</td>\n",
       "      <td>1</td>\n",
       "      <td>0</td>\n",
       "      <td>0</td>\n",
       "      <td>1</td>\n",
       "      <td>0</td>\n",
       "    </tr>\n",
       "    <tr>\n",
       "      <th>4</th>\n",
       "      <td>60</td>\n",
       "      <td>40</td>\n",
       "      <td>19.89</td>\n",
       "      <td>46.333333</td>\n",
       "      <td>19.2</td>\n",
       "      <td>44.530000</td>\n",
       "      <td>19.79</td>\n",
       "      <td>45.000000</td>\n",
       "      <td>18.890000</td>\n",
       "      <td>45.530000</td>\n",
       "      <td>...</td>\n",
       "      <td>0</td>\n",
       "      <td>0</td>\n",
       "      <td>0</td>\n",
       "      <td>0</td>\n",
       "      <td>0</td>\n",
       "      <td>1</td>\n",
       "      <td>0</td>\n",
       "      <td>0</td>\n",
       "      <td>1</td>\n",
       "      <td>0</td>\n",
       "    </tr>\n",
       "  </tbody>\n",
       "</table>\n",
       "<p>5 rows × 46 columns</p>\n",
       "</div>"
      ],
      "text/plain": [
       "   Appliances  lights     T1       RH_1    T2       RH_2     T3       RH_3  \\\n",
       "0          60      30  19.89  47.596667  19.2  44.790000  19.79  44.730000   \n",
       "1          60      30  19.89  46.693333  19.2  44.722500  19.79  44.790000   \n",
       "2          50      30  19.89  46.300000  19.2  44.626667  19.79  44.933333   \n",
       "3          50      40  19.89  46.066667  19.2  44.590000  19.79  45.000000   \n",
       "4          60      40  19.89  46.333333  19.2  44.530000  19.79  45.000000   \n",
       "\n",
       "          T4       RH_4      ...       DOW_Sunday  DOW_Thursday  DOW_Tuesday  \\\n",
       "0  19.000000  45.566667      ...                0             0            0   \n",
       "1  19.000000  45.992500      ...                0             0            0   \n",
       "2  18.926667  45.890000      ...                0             0            0   \n",
       "3  18.890000  45.723333      ...                0             0            0   \n",
       "4  18.890000  45.530000      ...                0             0            0   \n",
       "\n",
       "   DOW_Wednesday  TS_afternoon  TS_evening  TS_morning  TS_night  \\\n",
       "0              0             0           1           0         0   \n",
       "1              0             0           1           0         0   \n",
       "2              0             0           1           0         0   \n",
       "3              0             0           1           0         0   \n",
       "4              0             0           1           0         0   \n",
       "\n",
       "   WDT_weekdays  WDT_weekends  \n",
       "0             1             0  \n",
       "1             1             0  \n",
       "2             1             0  \n",
       "3             1             0  \n",
       "4             1             0  \n",
       "\n",
       "[5 rows x 46 columns]"
      ]
     },
     "execution_count": 31,
     "metadata": {},
     "output_type": "execute_result"
    }
   ],
   "source": [
    "df.head()"
   ]
  },
  {
   "cell_type": "markdown",
   "metadata": {},
   "source": [
    "The dataset is huge. Before performing any mathematical calculations, we have to know how much data does it contains."
   ]
  },
  {
   "cell_type": "code",
   "execution_count": 32,
   "metadata": {},
   "outputs": [
    {
     "data": {
      "text/plain": [
       "(19735, 46)"
      ]
     },
     "execution_count": 32,
     "metadata": {},
     "output_type": "execute_result"
    }
   ],
   "source": [
    "df.shape"
   ]
  },
  {
   "cell_type": "markdown",
   "metadata": {},
   "source": [
    "So the data contains 46 columns and 19,735 rows."
   ]
  },
  {
   "cell_type": "markdown",
   "metadata": {},
   "source": [
    "We also have to find out how many null values are present in our dataset."
   ]
  },
  {
   "cell_type": "code",
   "execution_count": 33,
   "metadata": {},
   "outputs": [
    {
     "data": {
      "text/plain": [
       "Appliances       0\n",
       "lights           0\n",
       "T1               0\n",
       "RH_1             0\n",
       "T2               0\n",
       "RH_2             0\n",
       "T3               0\n",
       "RH_3             0\n",
       "T4               0\n",
       "RH_4             0\n",
       "T5               0\n",
       "RH_5             0\n",
       "T6               0\n",
       "RH_6             0\n",
       "T7               0\n",
       "RH_7             0\n",
       "T8               0\n",
       "RH_8             0\n",
       "T9               0\n",
       "RH_9             0\n",
       "T_out            0\n",
       "Press_mm_hg      0\n",
       "RH_out           0\n",
       "Windspeed        0\n",
       "Visibility       0\n",
       "Tdewpoint        0\n",
       "rv1              0\n",
       "rv2              0\n",
       "year             0\n",
       "month            0\n",
       "day              0\n",
       "time_hr_24       0\n",
       "time_min         0\n",
       "DOW_Friday       0\n",
       "DOW_Monday       0\n",
       "DOW_Saturday     0\n",
       "DOW_Sunday       0\n",
       "DOW_Thursday     0\n",
       "DOW_Tuesday      0\n",
       "DOW_Wednesday    0\n",
       "TS_afternoon     0\n",
       "TS_evening       0\n",
       "TS_morning       0\n",
       "TS_night         0\n",
       "WDT_weekdays     0\n",
       "WDT_weekends     0\n",
       "dtype: int64"
      ]
     },
     "execution_count": 33,
     "metadata": {},
     "output_type": "execute_result"
    }
   ],
   "source": [
    "df.isnull().sum()"
   ]
  },
  {
   "cell_type": "markdown",
   "metadata": {},
   "source": [
    "As we can see, we don't have any null values present in any row of our dataset. We also have to understand the nature of these values before performing any mathematical calculations. "
   ]
  },
  {
   "cell_type": "code",
   "execution_count": 34,
   "metadata": {},
   "outputs": [
    {
     "data": {
      "text/plain": [
       "Appliances         int64\n",
       "lights             int64\n",
       "T1               float64\n",
       "RH_1             float64\n",
       "T2               float64\n",
       "RH_2             float64\n",
       "T3               float64\n",
       "RH_3             float64\n",
       "T4               float64\n",
       "RH_4             float64\n",
       "T5               float64\n",
       "RH_5             float64\n",
       "T6               float64\n",
       "RH_6             float64\n",
       "T7               float64\n",
       "RH_7             float64\n",
       "T8               float64\n",
       "RH_8             float64\n",
       "T9               float64\n",
       "RH_9             float64\n",
       "T_out            float64\n",
       "Press_mm_hg      float64\n",
       "RH_out           float64\n",
       "Windspeed        float64\n",
       "Visibility       float64\n",
       "Tdewpoint        float64\n",
       "rv1              float64\n",
       "rv2              float64\n",
       "year               int64\n",
       "month              int64\n",
       "day                int64\n",
       "time_hr_24         int64\n",
       "time_min           int64\n",
       "DOW_Friday         uint8\n",
       "DOW_Monday         uint8\n",
       "DOW_Saturday       uint8\n",
       "DOW_Sunday         uint8\n",
       "DOW_Thursday       uint8\n",
       "DOW_Tuesday        uint8\n",
       "DOW_Wednesday      uint8\n",
       "TS_afternoon       uint8\n",
       "TS_evening         uint8\n",
       "TS_morning         uint8\n",
       "TS_night           uint8\n",
       "WDT_weekdays       uint8\n",
       "WDT_weekends       uint8\n",
       "dtype: object"
      ]
     },
     "execution_count": 34,
     "metadata": {},
     "output_type": "execute_result"
    }
   ],
   "source": [
    "df.dtypes"
   ]
  },
  {
   "cell_type": "markdown",
   "metadata": {},
   "source": [
    "We can see that all importamt data are in 'float' format. We can also observe that few columns have boolean data. This is the result of 'One-hot encoding'. "
   ]
  },
  {
   "cell_type": "markdown",
   "metadata": {},
   "source": [
    "Spliting and scaling data using Standerscaler"
   ]
  },
  {
   "cell_type": "code",
   "execution_count": 98,
   "metadata": {
    "collapsed": true
   },
   "outputs": [],
   "source": [
    "df_train,df_test = train_test_split(df,train_size=0.7,random_state=42)\n",
    "x_train=df_train.iloc[:,1:]\n",
    "y_train=df_train['Appliances']\n",
    "scaler.fit(x_train)\n",
    "x_train_sc=scaler.transform(x_train)\n",
    "x_test=df_test.iloc[:,1:]\n",
    "y_test=df_test['Appliances']\n",
    "scaler.fit(x_test)\n",
    "x_test_sc=scaler.transform(x_test)"
   ]
  },
  {
   "cell_type": "markdown",
   "metadata": {},
   "source": [
    "Linear Regression Model"
   ]
  },
  {
   "cell_type": "code",
   "execution_count": 102,
   "metadata": {
    "scrolled": true
   },
   "outputs": [
    {
     "name": "stdout",
     "output_type": "stream",
     "text": [
      "Variable: T3                   Importance: 50.72\n",
      "Variable: RH_2                 Importance: 49.98\n",
      "Variable: RH_1                 Importance: 48.29\n",
      "Variable: T_out                Importance: 41.0\n",
      "Variable: T2                   Importance: 38.66\n",
      "Variable: T6                   Importance: 28.82\n",
      "Variable: T9                   Importance: 26.99\n",
      "Variable: RH_3                 Importance: 22.77\n",
      "Variable: Tdewpoint            Importance: 18.52\n",
      "Variable: T8                   Importance: 18.22\n",
      "Variable: TS_night             Importance: 15.03\n",
      "Variable: RH_8                 Importance: 13.71\n",
      "Variable: lights               Importance: 12.73\n",
      "Variable: month                Importance: 11.79\n",
      "Variable: TS_evening           Importance: 10.18\n",
      "Variable: RH_7                 Importance: 6.97\n",
      "Variable: RH_out               Importance: 6.85\n",
      "Variable: RH_4                 Importance: 6.79\n",
      "Variable: TS_morning           Importance: 5.51\n",
      "Variable: DOW_Friday           Importance: 5.2\n",
      "Variable: RH_9                 Importance: 4.91\n",
      "Variable: DOW_Saturday         Importance: 3.87\n",
      "Variable: T4                   Importance: 3.83\n",
      "Variable: Windspeed            Importance: 3.74\n",
      "Variable: DOW_Tuesday          Importance: 3.64\n",
      "Variable: T1                   Importance: 3.56\n",
      "Variable: T5                   Importance: 2.62\n",
      "Variable: DOW_Thursday         Importance: 2.52\n",
      "Variable: T7                   Importance: 2.44\n",
      "Variable: DOW_Sunday           Importance: 2.39\n",
      "Variable: Visibility           Importance: 2.33\n",
      "Variable: time_min             Importance: 1.78\n",
      "Variable: DOW_Wednesday        Importance: 1.57\n",
      "Variable: day                  Importance: 1.43\n",
      "Variable: TS_afternoon         Importance: 1.39\n",
      "Variable: Press_mm_hg          Importance: 1.17\n",
      "Variable: time_hr_24           Importance: 1.17\n",
      "Variable: DOW_Monday           Importance: 1.13\n",
      "Variable: WDT_weekdays         Importance: 1.12\n",
      "Variable: WDT_weekends         Importance: 1.12\n",
      "Variable: RH_6                 Importance: 0.73\n",
      "Variable: rv1                  Importance: 0.41\n",
      "Variable: rv2                  Importance: 0.41\n",
      "Variable: RH_5                 Importance: 0.34\n",
      "Variable: year                 Importance: 0.0\n"
     ]
    }
   ],
   "source": [
    "lm=linear_model.LinearRegression()\n",
    "mod=lm.fit(x_train_sc,y_train)\n",
    "feature_importances = [(x_train, abs((round(mod.coef_, 2)))) for x_train, mod.coef_ in zip(x_train.columns, mod.coef_)]\n",
    "feature_importances = sorted(feature_importances, key = lambda x: x[1], reverse = True)\n",
    "[print('Variable: {:20} Importance: {}'.format(*pair)) for pair in feature_importances];"
   ]
  },
  {
   "cell_type": "markdown",
   "metadata": {},
   "source": [
    "Importance of features based on coefficients generated by linear model"
   ]
  },
  {
   "cell_type": "code",
   "execution_count": 103,
   "metadata": {},
   "outputs": [
    {
     "data": {
      "image/png": "[encoded data removed]",
      "text/plain": [
       "<matplotlib.figure.Figure at 0x247045b2e48>"
      ]
     },
     "metadata": {},
     "output_type": "display_data"
    }
   ],
   "source": [
    "linera_d=pd.DataFrame(feature_importances)\n",
    "d=linera_d\n",
    "d.columns=['Feature','Importance']\n",
    "a=d['Feature'].index\n",
    "plt.xlabel(\"Importance\")\n",
    "plt.ylabel(\"Feature\" , fontsize=25)\n",
    "plt.legend()\n",
    "plt.title(\"Importance of Features\" , fontsize=30)\n",
    "plt.hlines(y=a, xmin=0, xmax=d['Importance'], color='skyblue')\n",
    "z=d['Feature']\n",
    "plt.yticks(a,z)\n",
    "plt.plot(d['Importance'], a, \"o\")\n",
    "plt.rcParams['figure.figsize'] = (10, 20)\n",
    "plt.show()"
   ]
  },
  {
   "cell_type": "markdown",
   "metadata": {},
   "source": [
    "Random Forest Model"
   ]
  },
  {
   "cell_type": "code",
   "execution_count": 104,
   "metadata": {},
   "outputs": [
    {
     "name": "stdout",
     "output_type": "stream",
     "text": [
      "Variable: TS_night             Importance: 0.09\n",
      "Variable: T3                   Importance: 0.05\n",
      "Variable: RH_3                 Importance: 0.05\n",
      "Variable: Press_mm_hg          Importance: 0.05\n",
      "Variable: time_hr_24           Importance: 0.05\n",
      "Variable: T8                   Importance: 0.04\n",
      "Variable: lights               Importance: 0.03\n",
      "Variable: RH_1                 Importance: 0.03\n",
      "Variable: T2                   Importance: 0.03\n",
      "Variable: RH_2                 Importance: 0.03\n",
      "Variable: RH_4                 Importance: 0.03\n",
      "Variable: RH_5                 Importance: 0.03\n",
      "Variable: RH_6                 Importance: 0.03\n",
      "Variable: T7                   Importance: 0.03\n",
      "Variable: RH_7                 Importance: 0.03\n",
      "Variable: RH_8                 Importance: 0.03\n",
      "Variable: RH_9                 Importance: 0.03\n",
      "Variable: RH_out               Importance: 0.03\n",
      "Variable: Windspeed            Importance: 0.03\n",
      "Variable: T1                   Importance: 0.02\n",
      "Variable: T4                   Importance: 0.02\n",
      "Variable: T5                   Importance: 0.02\n",
      "Variable: T6                   Importance: 0.02\n",
      "Variable: T9                   Importance: 0.02\n",
      "Variable: T_out                Importance: 0.02\n",
      "Variable: Visibility           Importance: 0.02\n",
      "Variable: Tdewpoint            Importance: 0.02\n",
      "Variable: rv1                  Importance: 0.02\n",
      "Variable: rv2                  Importance: 0.02\n",
      "Variable: month                Importance: 0.02\n",
      "Variable: day                  Importance: 0.02\n",
      "Variable: time_min             Importance: 0.01\n",
      "Variable: DOW_Friday           Importance: 0.01\n",
      "Variable: year                 Importance: 0.0\n",
      "Variable: DOW_Monday           Importance: 0.0\n",
      "Variable: DOW_Saturday         Importance: 0.0\n",
      "Variable: DOW_Sunday           Importance: 0.0\n",
      "Variable: DOW_Thursday         Importance: 0.0\n",
      "Variable: DOW_Tuesday          Importance: 0.0\n",
      "Variable: DOW_Wednesday        Importance: 0.0\n",
      "Variable: TS_afternoon         Importance: 0.0\n",
      "Variable: TS_evening           Importance: 0.0\n",
      "Variable: TS_morning           Importance: 0.0\n",
      "Variable: WDT_weekdays         Importance: 0.0\n",
      "Variable: WDT_weekends         Importance: 0.0\n"
     ]
    }
   ],
   "source": [
    "rf=RandomForestRegressor()\n",
    "rf.fit(x_train_sc, y_train)\n",
    "feature_list = list(x_train.columns)\n",
    "importances = list(rf.feature_importances_)\n",
    "feature_importances = [(x_train, round(importance, 2)) for x_train, importance in zip(feature_list, importances)]\n",
    "feature_importances = sorted(feature_importances, key = lambda x: x[1], reverse = True)\n",
    "[print('Variable: {:20} Importance: {}'.format(*pair)) for pair in feature_importances];"
   ]
  },
  {
   "cell_type": "markdown",
   "metadata": {},
   "source": [
    "Importance of features obtained through RandomForest model"
   ]
  },
  {
   "cell_type": "code",
   "execution_count": 105,
   "metadata": {},
   "outputs": [
    {
     "data": {
      "image/png": "[encoded data removed]",
      "text/plain": [
       "<matplotlib.figure.Figure at 0x24705e4db00>"
      ]
     },
     "metadata": {},
     "output_type": "display_data"
    }
   ],
   "source": [
    "rdf_d=pd.DataFrame(feature_importances)\n",
    "d=rdf_d\n",
    "d.columns=['Feature','Value']\n",
    "a=d['Feature'].index\n",
    "plt.xlabel(\"Value\" )\n",
    "plt.ylabel(\"Feature\" , fontsize=25)\n",
    "plt.legend()\n",
    "plt.title(\"Importance of Features\" , fontsize=25)\n",
    "plt.hlines(y=a, xmin=0, xmax=d['Value'], color='skyblue')\n",
    "z=d['Feature']\n",
    "plt.yticks(a,z)\n",
    "plt.plot(d['Value'], a, \"o\")\n",
    "plt.rcParams['figure.figsize'] = (10 , 20)\n",
    "plt.show()"
   ]
  },
  {
   "cell_type": "code",
   "execution_count": null,
   "metadata": {
    "collapsed": true
   },
   "outputs": [],
   "source": []
  }
 ],
 "metadata": {
  "kernelspec": {
   "display_name": "Python 3",
   "language": "python",
   "name": "python3"
  },
  "language_info": {
   "codemirror_mode": {
    "name": "ipython",
    "version": 3
   },
   "file_extension": ".py",
   "mimetype": "text/x-python",
   "name": "python",
   "nbconvert_exporter": "python",
   "pygments_lexer": "ipython3",
   "version": "3.6.3"
  }
 },
 "nbformat": 4,
 "nbformat_minor": 2
}
