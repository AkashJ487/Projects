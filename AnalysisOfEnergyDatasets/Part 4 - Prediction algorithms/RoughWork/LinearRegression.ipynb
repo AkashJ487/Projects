{
 "cells": [
  {
   "cell_type": "code",
   "execution_count": 1,
   "metadata": {},
   "outputs": [
    {
     "name": "stdout",
     "output_type": "stream",
     "text": [
      "         Appliances        lights            T1          RH_1            T2  \\\n",
      "count  14803.000000  14803.000000  14803.000000  14803.000000  14803.000000   \n",
      "mean      98.011214      3.802608     21.684167     40.271439     20.342506   \n",
      "std      102.828019      7.940340      1.607780      3.981741      2.191842   \n",
      "min       10.000000      0.000000     16.790000     27.023333     16.100000   \n",
      "25%       50.000000      0.000000     20.730000     37.361667     18.823333   \n",
      "50%       60.000000      0.000000     21.600000     39.656667     20.000000   \n",
      "75%      100.000000      0.000000     22.600000     43.090000     21.500000   \n",
      "max     1080.000000     50.000000     26.260000     63.360000     29.856667   \n",
      "\n",
      "               RH_2            T3          RH_3            T4          RH_4  \\\n",
      "count  14803.000000  14803.000000  14803.000000  14803.000000  14803.000000   \n",
      "mean      40.418056     22.262628     39.249149     20.855433     39.030359   \n",
      "std        4.066223      2.013785      3.252755      2.044786      4.339783   \n",
      "min       20.893333     17.200000     28.766667     15.100000     27.660000   \n",
      "25%       37.900000     20.790000     36.900000     19.500000     35.530000   \n",
      "50%       40.500000     22.100000     38.530000     20.666667     38.400000   \n",
      "75%       43.290000     23.290000     41.761667     22.100000     42.130000   \n",
      "max       56.026667     29.236000     50.163333     26.200000     51.063333   \n",
      "\n",
      "           ...          Windspeed    Visibility     Tdewpoint           rv1  \\\n",
      "count      ...       14803.000000  14803.000000  14803.000000  14803.000000   \n",
      "mean       ...           4.034470     38.330141      3.756859     25.078087   \n",
      "std        ...           2.436870     11.812780      4.200297     14.481537   \n",
      "min        ...           0.000000      1.000000     -6.600000      0.005322   \n",
      "25%        ...           2.000000     29.000000      0.900000     12.580425   \n",
      "50%        ...           3.666667     40.000000      3.450000     25.043993   \n",
      "75%        ...           5.500000     40.000000      6.533333     37.665907   \n",
      "max        ...          13.500000     66.000000     15.500000     49.996530   \n",
      "\n",
      "                rv2           NSM     year         month           day  \\\n",
      "count  14803.000000  14803.000000  14803.0  14803.000000  14803.000000   \n",
      "mean      25.078087  42985.989326   2016.0      3.096805     16.081267   \n",
      "std       14.481537  24968.649028      0.0      1.338229      8.435298   \n",
      "min        0.005322      0.000000   2016.0      1.000000      1.000000   \n",
      "25%       12.580425  21600.000000   2016.0      2.000000      9.000000   \n",
      "50%       25.043993  43200.000000   2016.0      3.000000     16.000000   \n",
      "75%       37.665907  64800.000000   2016.0      4.000000     23.000000   \n",
      "max       49.996530  85800.000000   2016.0      5.000000     31.000000   \n",
      "\n",
      "         time_hr_24  \n",
      "count  14803.000000  \n",
      "mean      11.524015  \n",
      "std        6.930125  \n",
      "min        0.000000  \n",
      "25%        6.000000  \n",
      "50%       12.000000  \n",
      "75%       18.000000  \n",
      "max       23.000000  \n",
      "\n",
      "[8 rows x 33 columns]\n"
     ]
    }
   ],
   "source": [
    "import pandas as pd\n",
    "import datetime\n",
    "import sklearn\n",
    "from sklearn import linear_model\n",
    "df_train=pd.read_csv(\"C:/Users/Akash/Documents/ADS/Assignment2/Appliances-energy-prediction-data-master/training.csv\")\n",
    "df_train['date']=pd.to_datetime(df_train['date'])\n",
    "df_train['year']=df_train['date'].dt.year\n",
    "df_train['month']=df_train['date'].dt.month\n",
    "df_train['day']=df_train['date'].dt.day\n",
    "df_train['time_hr_24']=df_train['date'].dt.hour\n",
    "#df_train['time_min']=df_train['date'].dt.minute\n",
    "morning=range(6,12)\n",
    "afternoon=range(12,17)\n",
    "evening=range(17,22)\n",
    "def time_slot(x):\n",
    "    if x in morning:\n",
    "        return 'morning'\n",
    "    elif x in afternoon:\n",
    "        return 'afternoon'\n",
    "    elif x in evening:\n",
    "        return 'evening'\n",
    "    else:\n",
    "        return 'night'\n",
    "print(df_train.describe())\n",
    "df_train['time_slot']=df_train['time_hr_24'].map(time_slot)\n",
    "df_train.drop(['date','year','time_hr_24'],axis=1,inplace=True)\n",
    "df_train.head()\n",
    "df_train=pd.get_dummies(df_train,prefix=['WS','DOW','TS'],columns=['WeekStatus','Day_of_week','time_slot'])\n",
    "#df_train.columns"
   ]
  },
  {
   "cell_type": "code",
   "execution_count": 2,
   "metadata": {},
   "outputs": [
    {
     "name": "stdout",
     "output_type": "stream",
     "text": [
      "0.20904420527\n"
     ]
    },
    {
     "data": {
      "text/plain": [
       "array([  1.54949874e+00,  -2.25372245e+00,   1.20293083e+01,\n",
       "        -1.89230360e+01,  -1.32647506e+01,   2.62523707e+01,\n",
       "         7.68071688e+00,   2.27402381e+00,  -1.11536678e+00,\n",
       "        -9.10184962e-01,   4.61072651e-02,   4.67929597e+00,\n",
       "        -1.93973994e-02,   1.85322022e+00,  -1.76751851e+00,\n",
       "         9.97813937e+00,  -2.44704479e+00,  -1.55586117e+01,\n",
       "        -1.07562228e+00,  -7.24237326e+00,   1.65938147e-01,\n",
       "        -3.38126729e-01,   1.52403367e+00,   1.40769685e-01,\n",
       "         4.16580345e+00,  -1.87688814e-02,  -1.87688814e-02,\n",
       "        -4.29228210e-05,  -7.39115152e+00,  -6.07495281e-02,\n",
       "        -2.97504814e+00,   2.97504814e+00,   1.06247704e+01,\n",
       "         6.45121160e+00,   9.76474166e+00,  -6.78969352e+00,\n",
       "        -5.46491163e+00,  -9.10179075e+00,  -5.48432776e+00,\n",
       "         2.08064011e+00,   2.16597303e+01,   1.11549233e+01,\n",
       "        -3.48952938e+01])"
      ]
     },
     "execution_count": 2,
     "metadata": {},
     "output_type": "execute_result"
    }
   ],
   "source": [
    "x_train=df_train.iloc[:,1:]\n",
    "y_train=df_train['Appliances']\n",
    "#x_train.drop(['NSM','RH_6','rv1','rv2','RH_5','day','Visibility','Press_mm_hg'],axis=1,inplace=True)\n",
    "lm=linear_model.LinearRegression()\n",
    "mod=lm.fit(x_train,y_train)\n",
    "print(lm.score(x_train,y_train))\n",
    "mod.coef_"
   ]
  },
  {
   "cell_type": "code",
   "execution_count": 3,
   "metadata": {},
   "outputs": [
    {
     "name": "stdout",
     "output_type": "stream",
     "text": [
      "R2   : 0.20904420527\n",
      "MAE  : 52.3516090484\n",
      "RMSE : 91.4477252142\n",
      "MAPE : 60.3168351158\n"
     ]
    }
   ],
   "source": [
    "#for training dataset\n",
    "import numpy as np\n",
    "from sklearn.metrics import *\n",
    "y_train_pred=lm.predict(x_train)\n",
    "def mean_absolute_percentage_error(y_true, y_pred): \n",
    "    y_true, y_pred = np.array(y_true), np.array(y_pred)\n",
    "    return np.mean(np.abs((y_true - y_pred) / y_true)) * 100\n",
    "print(\"R2   :\",r2_score(y_train,y_train_pred))\n",
    "print(\"MAE  :\",mean_absolute_error(y_train,y_train_pred))\n",
    "print(\"RMSE :\",np.sqrt(mean_squared_error(y_train,y_train_pred)))\n",
    "print(\"MAPE :\",mean_absolute_percentage_error(y_train,y_train_pred))"
   ]
  },
  {
   "cell_type": "code",
   "execution_count": 7,
   "metadata": {},
   "outputs": [
    {
     "name": "stdout",
     "output_type": "stream",
     "text": [
      "        Appliances       lights           T1         RH_1           T2  \\\n",
      "count  4932.000000  4932.000000  4932.000000  4932.000000  4932.000000   \n",
      "mean     96.745742     3.799676    21.693788    40.224623    20.337357   \n",
      "std     101.614097     7.923715     1.601049     3.972156     2.196585   \n",
      "min      10.000000     0.000000    16.790000    27.430000    16.100000   \n",
      "25%      50.000000     0.000000    20.765625    37.290000    18.790000   \n",
      "50%      60.000000     0.000000    21.600000    39.660000    20.000000   \n",
      "75%     100.000000     0.000000    22.666667    42.975000    21.500000   \n",
      "max    1070.000000    70.000000    26.260000    56.393333    29.666667   \n",
      "\n",
      "              RH_2           T3         RH_3           T4         RH_4  \\\n",
      "count  4932.000000  4932.000000  4932.000000  4932.000000  4932.000000   \n",
      "mean     40.427517    22.282566    39.222545    20.855039    39.016532   \n",
      "std       4.080973     1.983027     3.260285     2.037373     4.346357   \n",
      "min      20.463333    17.200000    30.926667    15.100000    28.856667   \n",
      "25%      37.900000    20.790000    36.863333    19.566667    35.500000   \n",
      "50%      40.500000    22.100000    38.530000    20.600000    38.400000   \n",
      "75%      43.160833    23.367500    41.760000    22.100000    42.170833   \n",
      "max      54.766667    29.100000    50.090000    26.200000    51.090000   \n",
      "\n",
      "          ...         Windspeed   Visibility    Tdewpoint          rv1  \\\n",
      "count     ...       4932.000000  4932.000000  4932.000000  4932.000000   \n",
      "mean      ...          4.055605    38.332911     3.772257    24.717745   \n",
      "std       ...          2.493979    11.741537     4.178050    14.539974   \n",
      "min       ...          0.000000     1.000000    -6.500000     0.013539   \n",
      "25%       ...          2.000000    29.000000     0.912500    12.338689   \n",
      "50%       ...          3.666667    40.000000     3.400000    24.490895   \n",
      "75%       ...          5.500000    40.000000     6.683333    37.374912   \n",
      "max       ...         14.000000    66.000000    15.316667    49.993173   \n",
      "\n",
      "               rv2           NSM    year        month          day  \\\n",
      "count  4932.000000   4932.000000  4932.0  4932.000000  4932.000000   \n",
      "mean     24.717745  42670.437956  2016.0     3.116180    15.985807   \n",
      "std      14.539974  24854.920715     0.0     1.342142     8.498404   \n",
      "min       0.013539      0.000000  2016.0     1.000000     1.000000   \n",
      "25%      12.338689  21000.000000  2016.0     2.000000     9.000000   \n",
      "50%      24.490895  42000.000000  2016.0     3.000000    16.000000   \n",
      "75%      37.374912  64200.000000  2016.0     4.000000    23.000000   \n",
      "max      49.993173  85800.000000  2016.0     5.000000    31.000000   \n",
      "\n",
      "        time_hr_24  \n",
      "count  4932.000000  \n",
      "mean     11.435929  \n",
      "std       6.897646  \n",
      "min       0.000000  \n",
      "25%       5.000000  \n",
      "50%      11.000000  \n",
      "75%      17.000000  \n",
      "max      23.000000  \n",
      "\n",
      "[8 rows x 33 columns]\n"
     ]
    }
   ],
   "source": [
    "#for testing dataset\n",
    "df_test=pd.read_csv(\"C:/Users/Akash/Documents/ADS/Assignment2/Appliances-energy-prediction-data-master/testing.csv\")\n",
    "df_test['date']=pd.to_datetime(df_test['date'])\n",
    "df_test['year']=df_test['date'].dt.year\n",
    "df_test['month']=df_test['date'].dt.month\n",
    "df_test['day']=df_test['date'].dt.day\n",
    "df_test['time_hr_24']=df_test['date'].dt.hour\n",
    "#df_test['time_min']=df_test['date'].dt.minute\n",
    "print(df_test.describe())\n",
    "df_test['time_slot']=df_test['time_hr_24'].map(time_slot)\n",
    "df_test.drop(['date','year','time_hr_24'],axis=1,inplace=True)\n",
    "df_test.head()\n",
    "df_test=pd.get_dummies(df_test,prefix=['WS','DOW','TS'],columns=['WeekStatus','Day_of_week','time_slot'])"
   ]
  },
  {
   "cell_type": "code",
   "execution_count": 8,
   "metadata": {},
   "outputs": [
    {
     "data": {
      "text/html": [
       "<div>\n",
       "<style>\n",
       "    .dataframe thead tr:only-child th {\n",
       "        text-align: right;\n",
       "    }\n",
       "\n",
       "    .dataframe thead th {\n",
       "        text-align: left;\n",
       "    }\n",
       "\n",
       "    .dataframe tbody tr th {\n",
       "        vertical-align: top;\n",
       "    }\n",
       "</style>\n",
       "<table border=\"1\" class=\"dataframe\">\n",
       "  <thead>\n",
       "    <tr style=\"text-align: right;\">\n",
       "      <th></th>\n",
       "      <th>lights</th>\n",
       "      <th>T1</th>\n",
       "      <th>RH_1</th>\n",
       "      <th>T2</th>\n",
       "      <th>RH_2</th>\n",
       "      <th>T3</th>\n",
       "      <th>RH_3</th>\n",
       "      <th>T4</th>\n",
       "      <th>RH_4</th>\n",
       "      <th>T5</th>\n",
       "      <th>...</th>\n",
       "      <th>DOW_Monday</th>\n",
       "      <th>DOW_Saturday</th>\n",
       "      <th>DOW_Sunday</th>\n",
       "      <th>DOW_Thursday</th>\n",
       "      <th>DOW_Tuesday</th>\n",
       "      <th>DOW_Wednesday</th>\n",
       "      <th>TS_afternoon</th>\n",
       "      <th>TS_evening</th>\n",
       "      <th>TS_morning</th>\n",
       "      <th>TS_night</th>\n",
       "    </tr>\n",
       "  </thead>\n",
       "  <tbody>\n",
       "    <tr>\n",
       "      <th>0</th>\n",
       "      <td>40</td>\n",
       "      <td>19.890000</td>\n",
       "      <td>46.066667</td>\n",
       "      <td>19.200000</td>\n",
       "      <td>44.590000</td>\n",
       "      <td>19.79</td>\n",
       "      <td>45.000000</td>\n",
       "      <td>18.89</td>\n",
       "      <td>45.723333</td>\n",
       "      <td>17.166667</td>\n",
       "      <td>...</td>\n",
       "      <td>1</td>\n",
       "      <td>0</td>\n",
       "      <td>0</td>\n",
       "      <td>0</td>\n",
       "      <td>0</td>\n",
       "      <td>0</td>\n",
       "      <td>0</td>\n",
       "      <td>1</td>\n",
       "      <td>0</td>\n",
       "      <td>0</td>\n",
       "    </tr>\n",
       "    <tr>\n",
       "      <th>1</th>\n",
       "      <td>50</td>\n",
       "      <td>19.890000</td>\n",
       "      <td>45.766667</td>\n",
       "      <td>19.200000</td>\n",
       "      <td>44.500000</td>\n",
       "      <td>19.79</td>\n",
       "      <td>44.900000</td>\n",
       "      <td>18.89</td>\n",
       "      <td>45.790000</td>\n",
       "      <td>17.100000</td>\n",
       "      <td>...</td>\n",
       "      <td>1</td>\n",
       "      <td>0</td>\n",
       "      <td>0</td>\n",
       "      <td>0</td>\n",
       "      <td>0</td>\n",
       "      <td>0</td>\n",
       "      <td>0</td>\n",
       "      <td>1</td>\n",
       "      <td>0</td>\n",
       "      <td>0</td>\n",
       "    </tr>\n",
       "    <tr>\n",
       "      <th>2</th>\n",
       "      <td>70</td>\n",
       "      <td>19.926667</td>\n",
       "      <td>45.863333</td>\n",
       "      <td>19.356667</td>\n",
       "      <td>44.400000</td>\n",
       "      <td>19.79</td>\n",
       "      <td>44.900000</td>\n",
       "      <td>18.89</td>\n",
       "      <td>46.430000</td>\n",
       "      <td>17.100000</td>\n",
       "      <td>...</td>\n",
       "      <td>1</td>\n",
       "      <td>0</td>\n",
       "      <td>0</td>\n",
       "      <td>0</td>\n",
       "      <td>0</td>\n",
       "      <td>0</td>\n",
       "      <td>0</td>\n",
       "      <td>1</td>\n",
       "      <td>0</td>\n",
       "      <td>0</td>\n",
       "    </tr>\n",
       "    <tr>\n",
       "      <th>3</th>\n",
       "      <td>60</td>\n",
       "      <td>20.066667</td>\n",
       "      <td>46.396667</td>\n",
       "      <td>19.426667</td>\n",
       "      <td>44.400000</td>\n",
       "      <td>19.79</td>\n",
       "      <td>44.826667</td>\n",
       "      <td>19.00</td>\n",
       "      <td>46.430000</td>\n",
       "      <td>17.100000</td>\n",
       "      <td>...</td>\n",
       "      <td>1</td>\n",
       "      <td>0</td>\n",
       "      <td>0</td>\n",
       "      <td>0</td>\n",
       "      <td>0</td>\n",
       "      <td>0</td>\n",
       "      <td>0</td>\n",
       "      <td>1</td>\n",
       "      <td>0</td>\n",
       "      <td>0</td>\n",
       "    </tr>\n",
       "    <tr>\n",
       "      <th>4</th>\n",
       "      <td>10</td>\n",
       "      <td>20.566667</td>\n",
       "      <td>53.893333</td>\n",
       "      <td>20.033333</td>\n",
       "      <td>46.756667</td>\n",
       "      <td>20.10</td>\n",
       "      <td>48.466667</td>\n",
       "      <td>19.00</td>\n",
       "      <td>48.490000</td>\n",
       "      <td>17.150000</td>\n",
       "      <td>...</td>\n",
       "      <td>1</td>\n",
       "      <td>0</td>\n",
       "      <td>0</td>\n",
       "      <td>0</td>\n",
       "      <td>0</td>\n",
       "      <td>0</td>\n",
       "      <td>0</td>\n",
       "      <td>1</td>\n",
       "      <td>0</td>\n",
       "      <td>0</td>\n",
       "    </tr>\n",
       "  </tbody>\n",
       "</table>\n",
       "<p>5 rows × 43 columns</p>\n",
       "</div>"
      ],
      "text/plain": [
       "   lights         T1       RH_1         T2       RH_2     T3       RH_3  \\\n",
       "0      40  19.890000  46.066667  19.200000  44.590000  19.79  45.000000   \n",
       "1      50  19.890000  45.766667  19.200000  44.500000  19.79  44.900000   \n",
       "2      70  19.926667  45.863333  19.356667  44.400000  19.79  44.900000   \n",
       "3      60  20.066667  46.396667  19.426667  44.400000  19.79  44.826667   \n",
       "4      10  20.566667  53.893333  20.033333  46.756667  20.10  48.466667   \n",
       "\n",
       "      T4       RH_4         T5    ...     DOW_Monday  DOW_Saturday  \\\n",
       "0  18.89  45.723333  17.166667    ...              1             0   \n",
       "1  18.89  45.790000  17.100000    ...              1             0   \n",
       "2  18.89  46.430000  17.100000    ...              1             0   \n",
       "3  19.00  46.430000  17.100000    ...              1             0   \n",
       "4  19.00  48.490000  17.150000    ...              1             0   \n",
       "\n",
       "   DOW_Sunday  DOW_Thursday  DOW_Tuesday  DOW_Wednesday  TS_afternoon  \\\n",
       "0           0             0            0              0             0   \n",
       "1           0             0            0              0             0   \n",
       "2           0             0            0              0             0   \n",
       "3           0             0            0              0             0   \n",
       "4           0             0            0              0             0   \n",
       "\n",
       "   TS_evening  TS_morning  TS_night  \n",
       "0           1           0         0  \n",
       "1           1           0         0  \n",
       "2           1           0         0  \n",
       "3           1           0         0  \n",
       "4           1           0         0  \n",
       "\n",
       "[5 rows x 43 columns]"
      ]
     },
     "execution_count": 8,
     "metadata": {},
     "output_type": "execute_result"
    }
   ],
   "source": [
    "x_test=df_test.iloc[:,1:]\n",
    "y_test=df_test['Appliances']\n",
    "x_test.head()"
   ]
  },
  {
   "cell_type": "code",
   "execution_count": 9,
   "metadata": {},
   "outputs": [
    {
     "name": "stdout",
     "output_type": "stream",
     "text": [
      "R2   : 0.189948899176\n",
      "MAE  : 51.2312726066\n",
      "RMSE : 91.4462998187\n",
      "MAPE : 58.9643385011\n"
     ]
    }
   ],
   "source": [
    "y_test_pred=lm.predict(x_test)\n",
    "print(\"R2   :\",r2_score(y_test,y_test_pred))\n",
    "print(\"MAE  :\",mean_absolute_error(y_test,y_test_pred))\n",
    "print(\"RMSE :\",np.sqrt(mean_squared_error(y_test,y_test_pred)))\n",
    "print(\"MAPE :\",mean_absolute_percentage_error(y_test,y_test_pred))"
   ]
  },
  {
   "cell_type": "code",
   "execution_count": 11,
   "metadata": {},
   "outputs": [
    {
     "name": "stdout",
     "output_type": "stream",
     "text": [
      "(19735, 46)\n",
      "(17118, 46)\n"
     ]
    }
   ],
   "source": [
    "import pandas as pd\n",
    "import datetime\n",
    "import numpy as np\n",
    "import sklearn\n",
    "from sklearn.cross_validation import train_test_split \n",
    "from sklearn.ensemble import RandomForestRegressor\n",
    "from sklearn.model_selection import RandomizedSearchCV\n",
    "from sklearn.grid_search import GridSearchCV\n",
    "from sklearn import linear_model\n",
    "from sklearn.metrics import *\n",
    "from sklearn.neural_network import MLPRegressor\n",
    "from sklearn.preprocessing import StandardScaler\n",
    "scaler = StandardScaler()\n",
    "def mean_absolute_percentage_error(y_true, y_pred): \n",
    "        y_true, y_pred = np.array(y_true), np.array(y_pred)\n",
    "        return np.mean(np.abs((y_true - y_pred) / y_true)) * 100\n",
    "weekend = ['Saturday','Sunday']\n",
    "def week_day_type(x):\n",
    "    if x in weekend:\n",
    "        return 'weekends'\n",
    "    else:\n",
    "        return 'weekdays'\n",
    "def time_slot(x):\n",
    "    if x in morning:\n",
    "        return 'morning'\n",
    "    elif x in afternoon:\n",
    "        return 'afternoon'\n",
    "    elif x in evening:\n",
    "        return 'evening'\n",
    "    else:\n",
    "        return 'night'  \n",
    "df=pd.read_csv(\"C:/Users/Akash/Documents/ADS/Assignment2/Appliances-energy-prediction-data-master/energydata_complete.csv\")\n",
    "df['date']=pd.to_datetime(df['date'])\n",
    "df['year']=df['date'].dt.year\n",
    "df['month']=df['date'].dt.month\n",
    "df['day']=df['date'].dt.day\n",
    "df['day_of_week']=df['date'].dt.weekday_name\n",
    "df['time_hr_24']=df['date'].dt.hour\n",
    "df['time_min']=df['date'].dt.minute\n",
    "df['week_day_type']=df['day_of_week'].map(week_day_type)\n",
    "morning=range(6,12)\n",
    "afternoon=range(12,17)\n",
    "evening=range(17,22)  \n",
    "df['time_slot']=df['time_hr_24'].map(time_slot)\n",
    "df.drop(['date'],axis=1,inplace=True)\n",
    "df=pd.get_dummies(df,prefix=['DOW','TS','WDT'],columns=['day_of_week','time_slot','week_day_type'])\n",
    "print(df.shape)\n",
    "df=df[(df['Appliances']-df['Appliances'].mean()).abs() <= 3*df['Appliances'].std()]\n",
    "df=df[(df['lights']-df['lights'].mean()).abs() <= 3*df['lights'].std()]\n",
    "df=df[(df['T1']-df['T1'].mean()).abs() <= 3*df['T1'].std()]\n",
    "df=df[(df['T2']-df['T2'].mean()).abs() <= 3*df['T2'].std()]\n",
    "df=df[(df['T3']-df['T3'].mean()).abs() <= 3*df['T3'].std()]\n",
    "df=df[(df['T4']-df['T4'].mean()).abs() <= 3*df['T4'].std()]\n",
    "df=df[(df['T5']-df['T5'].mean()).abs() <= 3*df['T5'].std()]\n",
    "df=df[(df['T6']-df['T6'].mean()).abs() <= 3*df['T6'].std()]\n",
    "df=df[(df['T7']-df['T7'].mean()).abs() <= 3*df['T7'].std()]\n",
    "df=df[(df['T8']-df['T8'].mean()).abs() <= 3*df['T8'].std()]\n",
    "df=df[(df['T9']-df['T9'].mean()).abs() <= 3*df['T9'].std()]\n",
    "df=df[(df['T_out']-df['T_out'].mean()).abs() <= 3*df['T_out'].std()]\n",
    "df=df[(df['RH_1']-df['RH_1'].mean()).abs() <= 3*df['RH_1'].std()]\n",
    "df=df[(df['RH_2']-df['RH_2'].mean()).abs() <= 3*df['RH_2'].std()]\n",
    "df=df[(df['RH_3']-df['RH_3'].mean()).abs() <= 3*df['RH_3'].std()]\n",
    "df=df[(df['RH_4']-df['RH_4'].mean()).abs() <= 3*df['RH_4'].std()]\n",
    "df=df[(df['RH_5']-df['RH_5'].mean()).abs() <= 3*df['RH_5'].std()]\n",
    "df=df[(df['RH_6']-df['RH_6'].mean()).abs() <= 3*df['RH_6'].std()]\n",
    "df=df[(df['RH_7']-df['RH_7'].mean()).abs() <= 3*df['RH_7'].std()]\n",
    "df=df[(df['RH_8']-df['RH_8'].mean()).abs() <= 3*df['RH_8'].std()]\n",
    "df=df[(df['RH_9']-df['RH_9'].mean()).abs() <= 3*df['RH_9'].std()]\n",
    "df=df[(df['RH_out']-df['RH_out'].mean()).abs() <= 3*df['RH_out'].std()]\n",
    "df=df[(df['Press_mm_hg']-df['Press_mm_hg'].mean()).abs() <= 3*df['Press_mm_hg'].std()]\n",
    "df=df[(df['Windspeed']-df['Windspeed'].mean()).abs() <= 3*df['Windspeed'].std()]\n",
    "df=df[(df['Visibility']-df['Visibility'].mean()).abs() <= 3*df['Visibility'].std()]\n",
    "df=df[(df['Tdewpoint']-df['Tdewpoint'].mean()).abs() <= 3*df['Tdewpoint'].std()]\n",
    "df=df[(df['rv1']-df['rv1'].mean()).abs() <= 3*df['rv1'].std()]\n",
    "df=df[(df['rv2']-df['rv2'].mean()).abs() <= 3*df['rv2'].std()]\n",
    "print(df.shape)"
   ]
  },
  {
   "cell_type": "code",
   "execution_count": 12,
   "metadata": {
    "collapsed": true
   },
   "outputs": [],
   "source": [
    "df_train,df_test = train_test_split(df,train_size=0.7,random_state=42)\n",
    "x_train=df_train.iloc[:,1:]\n",
    "y_train=df_train['Appliances']\n",
    "scaler.fit(x_train)\n",
    "x_train_sc=scaler.transform(x_train)\n",
    "x_test=df_test.iloc[:,1:]\n",
    "y_test=df_test['Appliances']\n",
    "x_test_sc=scaler.transform(x_test)"
   ]
  },
  {
   "cell_type": "code",
   "execution_count": 6,
   "metadata": {},
   "outputs": [],
   "source": [
    "lm=linear_model.LinearRegression()\n",
    "mod=lm.fit(x_train_sc,y_train)"
   ]
  },
  {
   "cell_type": "code",
   "execution_count": 13,
   "metadata": {},
   "outputs": [
    {
     "data": {
      "text/plain": [
       "array([  7.91386629e+00,   3.68164721e-01,   2.87491160e+01,\n",
       "        -2.54237482e+01,  -3.20685832e+01,   3.19130009e+01,\n",
       "         2.18654754e+01,   3.78496652e+00,  -8.06366896e+00,\n",
       "        -6.84261564e-01,  -7.98978772e-01,   2.12910951e+01,\n",
       "         4.26055703e-01,  -4.64773691e+00,  -1.26731760e+00,\n",
       "         2.05628740e+01,  -1.57719181e+01,  -1.98446749e+01,\n",
       "        -4.26996758e+00,  -3.40781535e+00,   3.33313632e-02,\n",
       "         9.78206613e+00,   3.23380053e+00,   8.78902188e-01,\n",
       "        -6.33477388e+00,   1.89312558e-02,   1.89312558e-02,\n",
       "         1.78745907e-14,  -8.56110277e+00,  -1.23715777e+00,\n",
       "        -1.66474809e+00,   8.81329197e-01,   2.58021616e+00,\n",
       "         1.04126712e+00,   2.52162216e+00,  -1.63707864e+00,\n",
       "        -2.25271844e+00,  -2.27639639e+00,   5.27598278e-02,\n",
       "         1.01552369e+00,   7.55888416e+00,   5.03666672e+00,\n",
       "        -1.14660747e+01,  -7.24151851e-01,   7.24151851e-01])"
      ]
     },
     "execution_count": 13,
     "metadata": {},
     "output_type": "execute_result"
    }
   ],
   "source": [
    "mod.coef_"
   ]
  },
  {
   "cell_type": "code",
   "execution_count": 14,
   "metadata": {},
   "outputs": [
    {
     "data": {
      "text/plain": [
       "Index(['lights', 'T1', 'RH_1', 'T2', 'RH_2', 'T3', 'RH_3', 'T4', 'RH_4', 'T5',\n",
       "       'RH_5', 'T6', 'RH_6', 'T7', 'RH_7', 'T8', 'RH_8', 'T9', 'RH_9', 'T_out',\n",
       "       'Press_mm_hg', 'RH_out', 'Windspeed', 'Visibility', 'Tdewpoint', 'rv1',\n",
       "       'rv2', 'year', 'month', 'day', 'time_hr_24', 'time_min', 'DOW_Friday',\n",
       "       'DOW_Monday', 'DOW_Saturday', 'DOW_Sunday', 'DOW_Thursday',\n",
       "       'DOW_Tuesday', 'DOW_Wednesday', 'TS_afternoon', 'TS_evening',\n",
       "       'TS_morning', 'TS_night', 'WDT_weekdays', 'WDT_weekends'],\n",
       "      dtype='object')"
      ]
     },
     "execution_count": 14,
     "metadata": {},
     "output_type": "execute_result"
    }
   ],
   "source": [
    "x_train.columns"
   ]
  },
  {
   "cell_type": "code",
   "execution_count": 15,
   "metadata": {},
   "outputs": [
    {
     "name": "stdout",
     "output_type": "stream",
     "text": [
      "R2   : 0.246677578831\n",
      "MAE  : 34.8186933258\n",
      "RMSE : 58.126235611\n",
      "MAPE : 45.8231905339\n",
      "R2   : 0.229974899459\n",
      "MAE  : 34.4072707097\n",
      "RMSE : 56.6244932848\n",
      "MAPE : 46.8672903133\n"
     ]
    }
   ],
   "source": [
    "y_train_pred=lm.predict(x_train_sc)\n",
    "print(\"R2   :\",r2_score(y_train,y_train_pred))\n",
    "print(\"MAE  :\",mean_absolute_error(y_train,y_train_pred))\n",
    "print(\"RMSE :\",np.sqrt(mean_squared_error(y_train,y_train_pred)))\n",
    "print(\"MAPE :\",mean_absolute_percentage_error(y_train,y_train_pred))\n",
    "y_test_pred=lm.predict(x_test_sc)\n",
    "print(\"R2   :\",r2_score(y_test,y_test_pred))\n",
    "print(\"MAE  :\",mean_absolute_error(y_test,y_test_pred))\n",
    "print(\"RMSE :\",np.sqrt(mean_squared_error(y_test,y_test_pred)))\n",
    "print(\"MAPE :\",mean_absolute_percentage_error(y_test,y_test_pred))"
   ]
  },
  {
   "cell_type": "code",
   "execution_count": 37,
   "metadata": {
    "collapsed": true
   },
   "outputs": [],
   "source": [
    "drop_col_list=['year','rv1','rv2', 'Press_mm_hg','DOW_Wednesday','T1']\n",
    "x_train=df_train.iloc[:,1:]\n",
    "y_train=df_train['Appliances']\n",
    "x_train.drop(drop_col_list,axis=1,inplace=True)\n",
    "scaler.fit(x_train)\n",
    "x_train_sc=scaler.transform(x_train)\n",
    "x_test=df_test.iloc[:,1:]\n",
    "x_test.drop(drop_col_list,axis=1,inplace=True)\n",
    "y_test=df_test['Appliances']\n",
    "x_test_sc=scaler.transform(x_test)"
   ]
  },
  {
   "cell_type": "code",
   "execution_count": 38,
   "metadata": {},
   "outputs": [
    {
     "data": {
      "text/plain": [
       "array([  7.91691094,  28.56830565, -25.15228089, -31.90023959,\n",
       "        32.00237748,  21.85125367,   3.84446871,  -8.0571671 ,\n",
       "        -0.64715125,  -0.80358997,  21.20339627,   0.4315016 ,\n",
       "        -4.62339863,  -1.28308201,  20.60147941, -15.78294792,\n",
       "       -19.89513169,  -4.24899849,  -3.3396952 ,   9.79990054,\n",
       "         3.23345218,   0.88119466,  -6.34658551,  -8.58434983,\n",
       "        -1.23402121,  -1.6577655 ,   0.88119069,   2.53650981,\n",
       "         0.99482369,   2.50919366,  -1.64991312,  -2.30534604,\n",
       "        -2.32705095,   1.01315505,   7.57637359,   5.0164359 ,\n",
       "       -11.45990626,  -0.70471481,   0.70471481])"
      ]
     },
     "execution_count": 38,
     "metadata": {},
     "output_type": "execute_result"
    }
   ],
   "source": [
    "lm=linear_model.LinearRegression()\n",
    "mod=lm.fit(x_train_sc,y_train)\n",
    "mod.coef_"
   ]
  },
  {
   "cell_type": "code",
   "execution_count": 39,
   "metadata": {},
   "outputs": [
    {
     "data": {
      "text/plain": [
       "Index(['lights', 'RH_1', 'T2', 'RH_2', 'T3', 'RH_3', 'T4', 'RH_4', 'T5',\n",
       "       'RH_5', 'T6', 'RH_6', 'T7', 'RH_7', 'T8', 'RH_8', 'T9', 'RH_9', 'T_out',\n",
       "       'RH_out', 'Windspeed', 'Visibility', 'Tdewpoint', 'month', 'day',\n",
       "       'time_hr_24', 'time_min', 'DOW_Friday', 'DOW_Monday', 'DOW_Saturday',\n",
       "       'DOW_Sunday', 'DOW_Thursday', 'DOW_Tuesday', 'TS_afternoon',\n",
       "       'TS_evening', 'TS_morning', 'TS_night', 'WDT_weekdays', 'WDT_weekends'],\n",
       "      dtype='object')"
      ]
     },
     "execution_count": 39,
     "metadata": {},
     "output_type": "execute_result"
    }
   ],
   "source": [
    "x_train.columns"
   ]
  },
  {
   "cell_type": "code",
   "execution_count": 40,
   "metadata": {},
   "outputs": [
    {
     "name": "stdout",
     "output_type": "stream",
     "text": [
      "R2   : 0.246675784532\n",
      "MAE  : 34.8213449796\n",
      "RMSE : 58.1263048348\n",
      "MAPE : 45.8289233286\n",
      "R2   : 0.229945628237\n",
      "MAE  : 34.4108040058\n",
      "RMSE : 56.6255695175\n",
      "MAPE : 46.8750567376\n"
     ]
    }
   ],
   "source": [
    "y_train_pred=lm.predict(x_train_sc)\n",
    "print(\"R2   :\",r2_score(y_train,y_train_pred))\n",
    "print(\"MAE  :\",mean_absolute_error(y_train,y_train_pred))\n",
    "print(\"RMSE :\",np.sqrt(mean_squared_error(y_train,y_train_pred)))\n",
    "print(\"MAPE :\",mean_absolute_percentage_error(y_train,y_train_pred))\n",
    "y_test_pred=lm.predict(x_test_sc)\n",
    "print(\"R2   :\",r2_score(y_test,y_test_pred))\n",
    "print(\"MAE  :\",mean_absolute_error(y_test,y_test_pred))\n",
    "print(\"RMSE :\",np.sqrt(mean_squared_error(y_test,y_test_pred)))\n",
    "print(\"MAPE :\",mean_absolute_percentage_error(y_test,y_test_pred))\n",
    "# R2   : 0.246677578831\n",
    "# MAE  : 34.8186933258\n",
    "# RMSE : 58.126235611\n",
    "# MAPE : 45.8231905339\n",
    "# R2   : 0.229974899459\n",
    "# MAE  : 34.4072707097\n",
    "# RMSE : 56.6244932848\n",
    "# MAPE : 46.8672903133"
   ]
  },
  {
   "cell_type": "code",
   "execution_count": null,
   "metadata": {
    "collapsed": true
   },
   "outputs": [],
   "source": []
  }
 ],
 "metadata": {
  "kernelspec": {
   "display_name": "Python 3",
   "language": "python",
   "name": "python3"
  },
  "language_info": {
   "codemirror_mode": {
    "name": "ipython",
    "version": 3
   },
   "file_extension": ".py",
   "mimetype": "text/x-python",
   "name": "python",
   "nbconvert_exporter": "python",
   "pygments_lexer": "ipython3",
   "version": "3.6.3"
  }
 },
 "nbformat": 4,
 "nbformat_minor": 2
}
