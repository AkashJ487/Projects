{
 "cells": [
  {
   "cell_type": "code",
   "execution_count": 185,
   "metadata": {},
   "outputs": [
    {
     "name": "stdout",
     "output_type": "stream",
     "text": [
      "(19735, 46)\n",
      "(17118, 46)\n"
     ]
    }
   ],
   "source": [
    "import pandas as pd\n",
    "import datetime\n",
    "import numpy as np\n",
    "import sklearn\n",
    "from sklearn.cross_validation import train_test_split \n",
    "from sklearn.ensemble import RandomForestRegressor\n",
    "from sklearn.model_selection import RandomizedSearchCV\n",
    "from sklearn.grid_search import GridSearchCV\n",
    "from sklearn.metrics import *\n",
    "from sklearn.neural_network import MLPRegressor\n",
    "from sklearn.preprocessing import StandardScaler\n",
    "scaler = StandardScaler()\n",
    "def mean_absolute_percentage_error(y_true, y_pred): \n",
    "        y_true, y_pred = np.array(y_true), np.array(y_pred)\n",
    "        return np.mean(np.abs((y_true - y_pred) / y_true)) * 100\n",
    "weekend = ['Saturday','Sunday']\n",
    "def week_day_type(x):\n",
    "    if x in weekend:\n",
    "        return 'weekends'\n",
    "    else:\n",
    "        return 'weekdays'\n",
    "def time_slot(x):\n",
    "    if x in morning:\n",
    "        return 'morning'\n",
    "    elif x in afternoon:\n",
    "        return 'afternoon'\n",
    "    elif x in evening:\n",
    "        return 'evening'\n",
    "    else:\n",
    "        return 'night'  \n",
    "df=pd.read_csv(\"C:/Users/Akash/Documents/ADS/Assignment2/Appliances-energy-prediction-data-master/energydata_complete.csv\")\n",
    "df['date']=pd.to_datetime(df['date'])\n",
    "df['year']=df['date'].dt.year\n",
    "df['month']=df['date'].dt.month\n",
    "df['day']=df['date'].dt.day\n",
    "df['day_of_week']=df['date'].dt.weekday_name\n",
    "df['time_hr_24']=df['date'].dt.hour\n",
    "df['time_min']=df['date'].dt.minute\n",
    "df['week_day_type']=df['day_of_week'].map(week_day_type)\n",
    "morning=range(6,12)\n",
    "afternoon=range(12,17)\n",
    "evening=range(17,22)  \n",
    "df['time_slot']=df['time_hr_24'].map(time_slot)\n",
    "df.drop(['date'],axis=1,inplace=True)\n",
    "df=pd.get_dummies(df,prefix=['DOW','TS','WDT'],columns=['day_of_week','time_slot','week_day_type'])\n",
    "print(df.shape)\n",
    "df=df[(df['Appliances']-df['Appliances'].mean()).abs() <= 3*df['Appliances'].std()]\n",
    "df=df[(df['lights']-df['lights'].mean()).abs() <= 3*df['lights'].std()]\n",
    "df=df[(df['T1']-df['T1'].mean()).abs() <= 3*df['T1'].std()]\n",
    "df=df[(df['T2']-df['T2'].mean()).abs() <= 3*df['T2'].std()]\n",
    "df=df[(df['T3']-df['T3'].mean()).abs() <= 3*df['T3'].std()]\n",
    "df=df[(df['T4']-df['T4'].mean()).abs() <= 3*df['T4'].std()]\n",
    "df=df[(df['T5']-df['T5'].mean()).abs() <= 3*df['T5'].std()]\n",
    "df=df[(df['T6']-df['T6'].mean()).abs() <= 3*df['T6'].std()]\n",
    "df=df[(df['T7']-df['T7'].mean()).abs() <= 3*df['T7'].std()]\n",
    "df=df[(df['T8']-df['T8'].mean()).abs() <= 3*df['T8'].std()]\n",
    "df=df[(df['T9']-df['T9'].mean()).abs() <= 3*df['T9'].std()]\n",
    "df=df[(df['T_out']-df['T_out'].mean()).abs() <= 3*df['T_out'].std()]\n",
    "df=df[(df['RH_1']-df['RH_1'].mean()).abs() <= 3*df['RH_1'].std()]\n",
    "df=df[(df['RH_2']-df['RH_2'].mean()).abs() <= 3*df['RH_2'].std()]\n",
    "df=df[(df['RH_3']-df['RH_3'].mean()).abs() <= 3*df['RH_3'].std()]\n",
    "df=df[(df['RH_4']-df['RH_4'].mean()).abs() <= 3*df['RH_4'].std()]\n",
    "df=df[(df['RH_5']-df['RH_5'].mean()).abs() <= 3*df['RH_5'].std()]\n",
    "df=df[(df['RH_6']-df['RH_6'].mean()).abs() <= 3*df['RH_6'].std()]\n",
    "df=df[(df['RH_7']-df['RH_7'].mean()).abs() <= 3*df['RH_7'].std()]\n",
    "df=df[(df['RH_8']-df['RH_8'].mean()).abs() <= 3*df['RH_8'].std()]\n",
    "df=df[(df['RH_9']-df['RH_9'].mean()).abs() <= 3*df['RH_9'].std()]\n",
    "df=df[(df['RH_out']-df['RH_out'].mean()).abs() <= 3*df['RH_out'].std()]\n",
    "df=df[(df['Press_mm_hg']-df['Press_mm_hg'].mean()).abs() <= 3*df['Press_mm_hg'].std()]\n",
    "df=df[(df['Windspeed']-df['Windspeed'].mean()).abs() <= 3*df['Windspeed'].std()]\n",
    "df=df[(df['Visibility']-df['Visibility'].mean()).abs() <= 3*df['Visibility'].std()]\n",
    "df=df[(df['Tdewpoint']-df['Tdewpoint'].mean()).abs() <= 3*df['Tdewpoint'].std()]\n",
    "df=df[(df['rv1']-df['rv1'].mean()).abs() <= 3*df['rv1'].std()]\n",
    "df=df[(df['rv2']-df['rv2'].mean()).abs() <= 3*df['rv2'].std()]\n",
    "print(df.shape)\n",
    "#x_train.isnull().sum()\n",
    "#df.dtypes"
   ]
  },
  {
   "cell_type": "code",
   "execution_count": 186,
   "metadata": {
    "collapsed": true
   },
   "outputs": [],
   "source": [
    "df_train,df_test = train_test_split(df,train_size=0.7,random_state=42)\n",
    "x_train=df_train.iloc[:,1:]\n",
    "y_train=df_train['Appliances']\n",
    "scaler.fit(x_train)\n",
    "x_train_sc=scaler.transform(x_train)\n",
    "x_test=df_test.iloc[:,1:]\n",
    "y_test=df_test['Appliances']\n",
    "x_test_sc=scaler.transform(x_test)"
   ]
  },
  {
   "cell_type": "code",
   "execution_count": 4,
   "metadata": {},
   "outputs": [
    {
     "name": "stdout",
     "output_type": "stream",
     "text": [
      "{'n_estimators': [200, 288, 377, 466, 555, 644, 733, 822, 911, 1000], 'max_features': ['auto', 'sqrt'], 'max_depth': [10, 20, 30, 40, 50, 60, 70, 80, 90, 100, 110, None], 'min_samples_split': [2, 5, 10], 'min_samples_leaf': [1, 2, 4], 'bootstrap': [True, False]}\n"
     ]
    }
   ],
   "source": [
    "#Random Hyperparameter Grid\n",
    "# Number of trees in random forest\n",
    "n_estimators = [int(x) for x in np.linspace(start = 200, stop = 1000, num = 10)]\n",
    "# Number of features to consider at every split\n",
    "max_features = ['auto', 'sqrt']\n",
    "# Maximum number of levels in tree\n",
    "max_depth = [int(x) for x in np.linspace(10, 110, num = 11)]\n",
    "max_depth.append(None)\n",
    "# Minimum number of samples required to split a node\n",
    "min_samples_split = [2, 5, 10]\n",
    "# Minimum number of samples required at each leaf node\n",
    "min_samples_leaf = [1, 2, 4]\n",
    "# Method of selecting samples for training each tree\n",
    "bootstrap = [True, False]\n",
    "# Create the random grid\n",
    "random_grid = {'n_estimators': n_estimators,\n",
    "               'max_features': max_features,\n",
    "               'max_depth': max_depth,\n",
    "               'min_samples_split': min_samples_split,\n",
    "               'min_samples_leaf': min_samples_leaf,\n",
    "               'bootstrap': bootstrap}\n",
    "print(random_grid)"
   ]
  },
  {
   "cell_type": "code",
   "execution_count": 5,
   "metadata": {},
   "outputs": [
    {
     "name": "stdout",
     "output_type": "stream",
     "text": [
      "Fitting 3 folds for each of 100 candidates, totalling 300 fits\n"
     ]
    },
    {
     "name": "stderr",
     "output_type": "stream",
     "text": [
      "[Parallel(n_jobs=-1)]: Done  25 tasks      | elapsed:  6.3min\n",
      "[Parallel(n_jobs=-1)]: Done 146 tasks      | elapsed: 27.9min\n",
      "[Parallel(n_jobs=-1)]: Done 300 out of 300 | elapsed: 67.8min finished\n"
     ]
    },
    {
     "name": "stdout",
     "output_type": "stream",
     "text": [
      "{'n_estimators': 288, 'min_samples_split': 2, 'min_samples_leaf': 1, 'max_features': 'sqrt', 'max_depth': None, 'bootstrap': False}\n",
      "R2   : 0.999999992866\n",
      "MAE  : 0.000307173723548\n",
      "RMSE : 0.00565661231389\n",
      "MAPE : 0.00024345420213\n"
     ]
    }
   ],
   "source": [
    "rdf = RandomForestRegressor()\n",
    "# Random search of parameters, using 3 fold cross validation, \n",
    "# search across 100 different combinations, and use all available cores\n",
    "rf_random = RandomizedSearchCV(estimator = rdf, param_distributions = random_grid, n_iter = 100, cv = 3, verbose=2, random_state=42, n_jobs = -1)\n",
    "# Fit the random search model\n",
    "rf_random.fit(x_train_sc, y_train)\n",
    "print(rf_random.best_params_)\n",
    "model=rf_random.best_estimator_\n",
    "#evaluate(model,x_train,y_train)\n",
    "y_train_pred=model.predict(x_train_sc)\n",
    "print(\"R2   :\",r2_score(y_train,y_train_pred))\n",
    "print(\"MAE  :\",mean_absolute_error(y_train,y_train_pred))\n",
    "print(\"RMSE :\",np.sqrt(mean_squared_error(y_train,y_train_pred)))\n",
    "print(\"MAPE :\",mean_absolute_percentage_error(y_train,y_train_pred))\n",
    "# R2   : 0.999999992866\n",
    "# MAE  : 0.000307173723548\n",
    "# RMSE : 0.00565661231389\n",
    "# MAPE : 0.00024345420213"
   ]
  },
  {
   "cell_type": "code",
   "execution_count": 6,
   "metadata": {},
   "outputs": [
    {
     "name": "stdout",
     "output_type": "stream",
     "text": [
      "Variable: time_hr_24           Importance: 0.07\n",
      "Variable: T3                   Importance: 0.04\n",
      "Variable: RH_3                 Importance: 0.04\n",
      "Variable: RH_8                 Importance: 0.04\n",
      "Variable: Press_mm_hg          Importance: 0.04\n",
      "Variable: TS_night             Importance: 0.04\n",
      "Variable: T1                   Importance: 0.03\n",
      "Variable: RH_1                 Importance: 0.03\n",
      "Variable: T2                   Importance: 0.03\n",
      "Variable: RH_2                 Importance: 0.03\n",
      "Variable: T4                   Importance: 0.03\n",
      "Variable: RH_4                 Importance: 0.03\n",
      "Variable: T5                   Importance: 0.03\n",
      "Variable: RH_5                 Importance: 0.03\n",
      "Variable: T6                   Importance: 0.03\n",
      "Variable: RH_6                 Importance: 0.03\n",
      "Variable: RH_7                 Importance: 0.03\n",
      "Variable: T8                   Importance: 0.03\n",
      "Variable: RH_9                 Importance: 0.03\n",
      "Variable: T_out                Importance: 0.03\n",
      "Variable: RH_out               Importance: 0.03\n",
      "Variable: Tdewpoint            Importance: 0.03\n",
      "Variable: TS_evening           Importance: 0.03\n",
      "Variable: lights               Importance: 0.02\n",
      "Variable: T7                   Importance: 0.02\n",
      "Variable: T9                   Importance: 0.02\n",
      "Variable: Windspeed            Importance: 0.02\n",
      "Variable: Visibility           Importance: 0.02\n",
      "Variable: rv1                  Importance: 0.02\n",
      "Variable: rv2                  Importance: 0.02\n",
      "Variable: day                  Importance: 0.02\n",
      "Variable: month                Importance: 0.01\n",
      "Variable: time_min             Importance: 0.01\n",
      "Variable: TS_morning           Importance: 0.01\n",
      "Variable: year                 Importance: 0.0\n",
      "Variable: DOW_Friday           Importance: 0.0\n",
      "Variable: DOW_Monday           Importance: 0.0\n",
      "Variable: DOW_Saturday         Importance: 0.0\n",
      "Variable: DOW_Sunday           Importance: 0.0\n",
      "Variable: DOW_Thursday         Importance: 0.0\n",
      "Variable: DOW_Tuesday          Importance: 0.0\n",
      "Variable: DOW_Wednesday        Importance: 0.0\n",
      "Variable: TS_afternoon         Importance: 0.0\n",
      "Variable: WDT_weekdays         Importance: 0.0\n",
      "Variable: WDT_weekends         Importance: 0.0\n"
     ]
    }
   ],
   "source": [
    "feature_list = list(x_train.columns)\n",
    "importances = list(model.feature_importances_)\n",
    "feature_importances = [(x_train, round(importance, 2)) for x_train, importance in zip(feature_list, importances)]\n",
    "feature_importances = sorted(feature_importances, key = lambda x: x[1], reverse = True)\n",
    "[print('Variable: {:20} Importance: {}'.format(*pair)) for pair in feature_importances];\n",
    "\n",
    "# Variable: time_hr_24           Importance: 0.07\n",
    "# Variable: T3                   Importance: 0.04\n",
    "# Variable: RH_3                 Importance: 0.04\n",
    "# Variable: RH_8                 Importance: 0.04\n",
    "# Variable: Press_mm_hg          Importance: 0.04\n",
    "# Variable: TS_night             Importance: 0.04\n",
    "# Variable: T1                   Importance: 0.03\n",
    "# Variable: RH_1                 Importance: 0.03\n",
    "# Variable: T2                   Importance: 0.03\n",
    "# Variable: RH_2                 Importance: 0.03\n",
    "# Variable: T4                   Importance: 0.03\n",
    "# Variable: RH_4                 Importance: 0.03\n",
    "# Variable: T5                   Importance: 0.03\n",
    "# Variable: RH_5                 Importance: 0.03\n",
    "# Variable: T6                   Importance: 0.03\n",
    "# Variable: RH_6                 Importance: 0.03\n",
    "# Variable: RH_7                 Importance: 0.03\n",
    "# Variable: T8                   Importance: 0.03\n",
    "# Variable: RH_9                 Importance: 0.03\n",
    "# Variable: T_out                Importance: 0.03\n",
    "# Variable: RH_out               Importance: 0.03\n",
    "# Variable: Tdewpoint            Importance: 0.03\n",
    "# Variable: TS_evening           Importance: 0.03\n",
    "# Variable: lights               Importance: 0.02\n",
    "# Variable: T7                   Importance: 0.02\n",
    "# Variable: T9                   Importance: 0.02\n",
    "# Variable: Windspeed            Importance: 0.02\n",
    "# Variable: Visibility           Importance: 0.02\n",
    "# Variable: rv1                  Importance: 0.02\n",
    "# Variable: rv2                  Importance: 0.02\n",
    "# Variable: day                  Importance: 0.02\n",
    "# Variable: month                Importance: 0.01\n",
    "# Variable: time_min             Importance: 0.01\n",
    "# Variable: TS_morning           Importance: 0.01\n",
    "# Variable: year                 Importance: 0.0\n",
    "# Variable: DOW_Friday           Importance: 0.0\n",
    "# Variable: DOW_Monday           Importance: 0.0\n",
    "# Variable: DOW_Saturday         Importance: 0.0\n",
    "# Variable: DOW_Sunday           Importance: 0.0\n",
    "# Variable: DOW_Thursday         Importance: 0.0\n",
    "# Variable: DOW_Tuesday          Importance: 0.0\n",
    "# Variable: DOW_Wednesday        Importance: 0.0\n",
    "# Variable: TS_afternoon         Importance: 0.0\n",
    "# Variable: WDT_weekdays         Importance: 0.0\n",
    "# Variable: WDT_weekends         Importance: 0.0"
   ]
  },
  {
   "cell_type": "code",
   "execution_count": 7,
   "metadata": {},
   "outputs": [
    {
     "data": {
      "text/plain": [
       "RandomForestRegressor(bootstrap=False, criterion='mse', max_depth=None,\n",
       "           max_features='sqrt', max_leaf_nodes=None,\n",
       "           min_impurity_decrease=0.0, min_impurity_split=None,\n",
       "           min_samples_leaf=1, min_samples_split=2,\n",
       "           min_weight_fraction_leaf=0.0, n_estimators=288, n_jobs=1,\n",
       "           oob_score=False, random_state=None, verbose=0, warm_start=False)"
      ]
     },
     "execution_count": 7,
     "metadata": {},
     "output_type": "execute_result"
    }
   ],
   "source": [
    "rf_random.best_estimator_\n",
    "# RandomForestRegressor(bootstrap=False, criterion='mse', max_depth=None,\n",
    "#            max_features='sqrt', max_leaf_nodes=None,\n",
    "#            min_impurity_decrease=0.0, min_impurity_split=None,\n",
    "#            min_samples_leaf=1, min_samples_split=2,\n",
    "#            min_weight_fraction_leaf=0.0, n_estimators=288, n_jobs=1,\n",
    "#            oob_score=False, random_state=None, verbose=0, warm_start=False)"
   ]
  },
  {
   "cell_type": "code",
   "execution_count": 8,
   "metadata": {},
   "outputs": [
    {
     "name": "stdout",
     "output_type": "stream",
     "text": [
      "R2   : 0.568695739968\n",
      "MAE  : 21.0522604599\n",
      "RMSE : 42.3783224843\n",
      "MAPE : 25.6767762782\n"
     ]
    }
   ],
   "source": [
    "y_test_pred=model.predict(x_test_sc)\n",
    "print(\"R2   :\",r2_score(y_test,y_test_pred))\n",
    "print(\"MAE  :\",mean_absolute_error(y_test,y_test_pred))\n",
    "print(\"RMSE :\",np.sqrt(mean_squared_error(y_test,y_test_pred)))\n",
    "print(\"MAPE :\",mean_absolute_percentage_error(y_test,y_test_pred))\n",
    "# R2   : 0.568695739968\n",
    "# MAE  : 21.0522604599\n",
    "# RMSE : 42.3783224843\n",
    "# MAPE : 25.6767762782"
   ]
  },
  {
   "cell_type": "code",
   "execution_count": 37,
   "metadata": {
    "collapsed": true
   },
   "outputs": [],
   "source": [
    "drop_col_list=['year','DOW_Friday','DOW_Monday','DOW_Saturday','DOW_Sunday','DOW_Thursday','DOW_Tuesday','DOW_Wednesday','TS_afternoon',\n",
    "              'WDT_weekdays','WDT_weekends','TS_morning','month','time_min' ,'TS_evening','day','rv1','rv2','Visibility','Windspeed',\n",
    "               'T9','lights','T7']\n",
    "x_train=df_train.iloc[:,1:]\n",
    "y_train=df_train['Appliances']\n",
    "x_train.drop(drop_col_list,axis=1,inplace=True)\n",
    "scaler.fit(x_train)\n",
    "x_train_sc=scaler.transform(x_train)\n",
    "x_test=df_test.iloc[:,1:]\n",
    "x_test.drop(drop_col_list,axis=1,inplace=True)\n",
    "#x_test=x_test[col_list]\n",
    "y_test=df_test['Appliances']\n",
    "x_test_sc=scaler.transform(x_test)"
   ]
  },
  {
   "cell_type": "code",
   "execution_count": 34,
   "metadata": {},
   "outputs": [
    {
     "name": "stdout",
     "output_type": "stream",
     "text": [
      "R2   : 0.999999999327\n",
      "MAE  : 5.21615756969e-05\n",
      "RMSE : 0.00173741466112\n",
      "MAPE : 4.71958397972e-05\n"
     ]
    }
   ],
   "source": [
    "rf=RandomForestRegressor(bootstrap=False, criterion='mse', max_depth=None,\n",
    "           max_features='sqrt', max_leaf_nodes=None,\n",
    "           min_impurity_decrease=0.0, min_impurity_split=None,\n",
    "           min_samples_leaf=1, min_samples_split=2,\n",
    "           min_weight_fraction_leaf=0.0, n_estimators=288, n_jobs=1,\n",
    "           oob_score=False, random_state=42, verbose=0, warm_start=False)\n",
    "rf.fit(x_train_sc, y_train)\n",
    "y_train_pred=rf.predict(x_train_sc)\n",
    "print(\"R2   :\",r2_score(y_train,y_train_pred))\n",
    "print(\"MAE  :\",mean_absolute_error(y_train,y_train_pred))\n",
    "print(\"RMSE :\",np.sqrt(mean_squared_error(y_train,y_train_pred)))\n",
    "print(\"MAPE :\",mean_absolute_percentage_error(y_train,y_train_pred))"
   ]
  },
  {
   "cell_type": "code",
   "execution_count": 35,
   "metadata": {},
   "outputs": [
    {
     "name": "stdout",
     "output_type": "stream",
     "text": [
      "Variable: time_hr_24           Importance: 0.08\n",
      "Variable: RH_3                 Importance: 0.06\n",
      "Variable: TS_night             Importance: 0.06\n",
      "Variable: T3                   Importance: 0.05\n",
      "Variable: RH_8                 Importance: 0.05\n",
      "Variable: RH_9                 Importance: 0.05\n",
      "Variable: Press_mm_hg          Importance: 0.05\n",
      "Variable: T1                   Importance: 0.04\n",
      "Variable: RH_1                 Importance: 0.04\n",
      "Variable: T2                   Importance: 0.04\n",
      "Variable: RH_2                 Importance: 0.04\n",
      "Variable: T4                   Importance: 0.04\n",
      "Variable: RH_4                 Importance: 0.04\n",
      "Variable: T5                   Importance: 0.04\n",
      "Variable: RH_5                 Importance: 0.04\n",
      "Variable: T6                   Importance: 0.04\n",
      "Variable: RH_6                 Importance: 0.04\n",
      "Variable: RH_7                 Importance: 0.04\n",
      "Variable: T8                   Importance: 0.04\n",
      "Variable: T_out                Importance: 0.04\n",
      "Variable: RH_out               Importance: 0.04\n",
      "Variable: Tdewpoint            Importance: 0.04\n"
     ]
    }
   ],
   "source": [
    "feature_list = list(x_train.columns)\n",
    "importances = list(rf.feature_importances_)\n",
    "feature_importances = [(x_train, round(importance, 2)) for x_train, importance in zip(feature_list, importances)]\n",
    "feature_importances = sorted(feature_importances, key = lambda x: x[1], reverse = True)\n",
    "[print('Variable: {:20} Importance: {}'.format(*pair)) for pair in feature_importances];\n",
    "# Variable: time_hr_24           Importance: 0.08\n",
    "# Variable: RH_3                 Importance: 0.06\n",
    "# Variable: TS_night             Importance: 0.06\n",
    "# Variable: T3                   Importance: 0.05\n",
    "# Variable: RH_8                 Importance: 0.05\n",
    "# Variable: RH_9                 Importance: 0.05\n",
    "# Variable: Press_mm_hg          Importance: 0.05\n",
    "# Variable: T1                   Importance: 0.04\n",
    "# Variable: RH_1                 Importance: 0.04\n",
    "# Variable: T2                   Importance: 0.04\n",
    "# Variable: RH_2                 Importance: 0.04\n",
    "# Variable: T4                   Importance: 0.04\n",
    "# Variable: RH_4                 Importance: 0.04\n",
    "# Variable: T5                   Importance: 0.04\n",
    "# Variable: RH_5                 Importance: 0.04\n",
    "# Variable: T6                   Importance: 0.04\n",
    "# Variable: RH_6                 Importance: 0.04\n",
    "# Variable: RH_7                 Importance: 0.04\n",
    "# Variable: T8                   Importance: 0.04\n",
    "# Variable: T_out                Importance: 0.04\n",
    "# Variable: RH_out               Importance: 0.04\n",
    "# Variable: Tdewpoint            Importance: 0.04"
   ]
  },
  {
   "cell_type": "code",
   "execution_count": 36,
   "metadata": {},
   "outputs": [
    {
     "name": "stdout",
     "output_type": "stream",
     "text": [
      "R2   : 0.568147813877\n",
      "MAE  : 20.5685493467\n",
      "RMSE : 42.4052325114\n",
      "MAPE : 24.8711120781\n"
     ]
    }
   ],
   "source": [
    "y_test_pred=rf.predict(x_test_sc)\n",
    "print(\"R2   :\",r2_score(y_test,y_test_pred))\n",
    "print(\"MAE  :\",mean_absolute_error(y_test,y_test_pred))\n",
    "print(\"RMSE :\",np.sqrt(mean_squared_error(y_test,y_test_pred)))\n",
    "print(\"MAPE :\",mean_absolute_percentage_error(y_test,y_test_pred))\n",
    "# R2   : 0.568147813877\n",
    "# MAE  : 20.5685493467\n",
    "# RMSE : 42.4052325114\n",
    "# MAPE : 24.8711120781"
   ]
  },
  {
   "cell_type": "code",
   "execution_count": 38,
   "metadata": {
    "scrolled": true
   },
   "outputs": [
    {
     "name": "stdout",
     "output_type": "stream",
     "text": [
      "{'n_estimators': [288], 'max_features': ['sqrt'], 'max_depth': [5, 10, 15, 20, 25, 30, 35, 40, 45, 50, None], 'min_samples_split': [2], 'min_samples_leaf': [1, 2, 4], 'bootstrap': [True, False]}\n",
      "Fitting 3 folds for each of 66 candidates, totalling 198 fits\n"
     ]
    },
    {
     "name": "stderr",
     "output_type": "stream",
     "text": [
      "[Parallel(n_jobs=-1)]: Done  25 tasks      | elapsed:   43.3s\n",
      "[Parallel(n_jobs=-1)]: Done 146 tasks      | elapsed:  4.1min\n",
      "[Parallel(n_jobs=-1)]: Done 198 out of 198 | elapsed:  6.0min finished\n"
     ]
    },
    {
     "name": "stdout",
     "output_type": "stream",
     "text": [
      "{'n_estimators': 288, 'min_samples_split': 2, 'min_samples_leaf': 1, 'max_features': 'sqrt', 'max_depth': 45, 'bootstrap': False}\n",
      "R2   : 0.999999981638\n",
      "MAE  : 0.00124797731691\n",
      "RMSE : 0.00907498667192\n",
      "MAPE : 0.00223412304395\n"
     ]
    }
   ],
   "source": [
    "#Random Hyperparameter Grid\n",
    "# Number of trees in random forest\n",
    "n_estimators = [288] #[int(x) for x in np.linspace(start = 200, stop = 1000, num = 10)]\n",
    "# Number of features to consider at every split\n",
    "max_features = ['sqrt'] #['auto', 'sqrt']\n",
    "# Maximum number of levels in tree\n",
    "max_depth = [5,10,15,20,25,30,35,40,45,50] #[int(x) for x in np.linspace(10, 110, num = 11)]\n",
    "max_depth.append(None)\n",
    "# Minimum number of samples required to split a node\n",
    "min_samples_split = [2] # [2, 5, 10]\n",
    "# Minimum number of samples required at each leaf node\n",
    "min_samples_leaf = [1, 2, 4]\n",
    "# Method of selecting samples for training each tree\n",
    "bootstrap = [True, False]\n",
    "# Create the random grid\n",
    "random_grid = {'n_estimators': n_estimators,\n",
    "               'max_features': max_features,\n",
    "               'max_depth': max_depth,\n",
    "               'min_samples_split': min_samples_split,\n",
    "               'min_samples_leaf': min_samples_leaf,\n",
    "               'bootstrap': bootstrap}\n",
    "print(random_grid)\n",
    "# Use the random grid to search for best hyperparameters\n",
    "# First create the base model to tune\n",
    "rdf = RandomForestRegressor()\n",
    "# Random search of parameters, using 3 fold cross validation, \n",
    "# search across 100 different combinations, and use all available cores\n",
    "rf_random = RandomizedSearchCV(estimator = rdf, param_distributions = random_grid, n_iter = 66, cv = 3, verbose=2, random_state=42, n_jobs = -1)\n",
    "# Fit the random search model\n",
    "rf_random.fit(x_train_sc, y_train)\n",
    "print(rf_random.best_params_)\n",
    "model=rf_random.best_estimator_\n",
    "#evaluate(model,x_train,y_train)\n",
    "y_train_pred=model.predict(x_train_sc)\n",
    "print(\"R2   :\",r2_score(y_train,y_train_pred))\n",
    "print(\"MAE  :\",mean_absolute_error(y_train,y_train_pred))\n",
    "print(\"RMSE :\",np.sqrt(mean_squared_error(y_train,y_train_pred)))\n",
    "print(\"MAPE :\",mean_absolute_percentage_error(y_train,y_train_pred))"
   ]
  },
  {
   "cell_type": "code",
   "execution_count": 39,
   "metadata": {},
   "outputs": [
    {
     "name": "stdout",
     "output_type": "stream",
     "text": [
      "Variable: time_hr_24           Importance: 0.08\n",
      "Variable: RH_3                 Importance: 0.06\n",
      "Variable: TS_night             Importance: 0.06\n",
      "Variable: T3                   Importance: 0.05\n",
      "Variable: T8                   Importance: 0.05\n",
      "Variable: RH_8                 Importance: 0.05\n",
      "Variable: RH_9                 Importance: 0.05\n",
      "Variable: Press_mm_hg          Importance: 0.05\n",
      "Variable: T1                   Importance: 0.04\n",
      "Variable: RH_1                 Importance: 0.04\n",
      "Variable: T2                   Importance: 0.04\n",
      "Variable: RH_2                 Importance: 0.04\n",
      "Variable: T4                   Importance: 0.04\n",
      "Variable: RH_4                 Importance: 0.04\n",
      "Variable: T5                   Importance: 0.04\n",
      "Variable: RH_5                 Importance: 0.04\n",
      "Variable: T6                   Importance: 0.04\n",
      "Variable: RH_6                 Importance: 0.04\n",
      "Variable: RH_7                 Importance: 0.04\n",
      "Variable: T_out                Importance: 0.04\n",
      "Variable: RH_out               Importance: 0.04\n",
      "Variable: Tdewpoint            Importance: 0.04\n"
     ]
    }
   ],
   "source": [
    "feature_list = list(x_train.columns)\n",
    "importances = list(model.feature_importances_)\n",
    "feature_importances = [(x_train, round(importance, 2)) for x_train, importance in zip(feature_list, importances)]\n",
    "feature_importances = sorted(feature_importances, key = lambda x: x[1], reverse = True)\n",
    "[print('Variable: {:20} Importance: {}'.format(*pair)) for pair in feature_importances];\n",
    "# Variable: time_hr_24           Importance: 0.08\n",
    "# Variable: RH_3                 Importance: 0.06\n",
    "# Variable: TS_night             Importance: 0.06\n",
    "# Variable: T3                   Importance: 0.05\n",
    "# Variable: T8                   Importance: 0.05\n",
    "# Variable: RH_8                 Importance: 0.05\n",
    "# Variable: RH_9                 Importance: 0.05\n",
    "# Variable: Press_mm_hg          Importance: 0.05\n",
    "# Variable: T1                   Importance: 0.04\n",
    "# Variable: RH_1                 Importance: 0.04\n",
    "# Variable: T2                   Importance: 0.04\n",
    "# Variable: RH_2                 Importance: 0.04\n",
    "# Variable: T4                   Importance: 0.04\n",
    "# Variable: RH_4                 Importance: 0.04\n",
    "# Variable: T5                   Importance: 0.04\n",
    "# Variable: RH_5                 Importance: 0.04\n",
    "# Variable: T6                   Importance: 0.04\n",
    "# Variable: RH_6                 Importance: 0.04\n",
    "# Variable: RH_7                 Importance: 0.04\n",
    "# Variable: T_out                Importance: 0.04\n",
    "# Variable: RH_out               Importance: 0.04\n",
    "# Variable: Tdewpoint            Importance: 0.04"
   ]
  },
  {
   "cell_type": "code",
   "execution_count": 40,
   "metadata": {},
   "outputs": [
    {
     "data": {
      "text/plain": [
       "RandomForestRegressor(bootstrap=False, criterion='mse', max_depth=45,\n",
       "           max_features='sqrt', max_leaf_nodes=None,\n",
       "           min_impurity_decrease=0.0, min_impurity_split=None,\n",
       "           min_samples_leaf=1, min_samples_split=2,\n",
       "           min_weight_fraction_leaf=0.0, n_estimators=288, n_jobs=1,\n",
       "           oob_score=False, random_state=None, verbose=0, warm_start=False)"
      ]
     },
     "execution_count": 40,
     "metadata": {},
     "output_type": "execute_result"
    }
   ],
   "source": [
    "rf_random.best_estimator_\n",
    "# RandomForestRegressor(bootstrap=False, criterion='mse', max_depth=45,\n",
    "#            max_features='sqrt', max_leaf_nodes=None,\n",
    "#            min_impurity_decrease=0.0, min_impurity_split=None,\n",
    "#            min_samples_leaf=1, min_samples_split=2,\n",
    "#            min_weight_fraction_leaf=0.0, n_estimators=288, n_jobs=1,\n",
    "#            oob_score=False, random_state=None, verbose=0, warm_start=False)"
   ]
  },
  {
   "cell_type": "code",
   "execution_count": 41,
   "metadata": {},
   "outputs": [
    {
     "name": "stdout",
     "output_type": "stream",
     "text": [
      "R2   : 0.568231701722\n",
      "MAE  : 20.5605862018\n",
      "RMSE : 42.4011136757\n",
      "MAPE : 24.8030522471\n"
     ]
    }
   ],
   "source": [
    "y_test_pred=model.predict(x_test_sc)\n",
    "print(\"R2   :\",r2_score(y_test,y_test_pred))\n",
    "print(\"MAE  :\",mean_absolute_error(y_test,y_test_pred))\n",
    "print(\"RMSE :\",np.sqrt(mean_squared_error(y_test,y_test_pred)))\n",
    "print(\"MAPE :\",mean_absolute_percentage_error(y_test,y_test_pred))\n",
    "# R2   : 0.568231701722\n",
    "# MAE  : 20.5605862018\n",
    "# RMSE : 42.4011136757\n",
    "# MAPE : 24.8030522471"
   ]
  },
  {
   "cell_type": "code",
   "execution_count": 325,
   "metadata": {
    "collapsed": true
   },
   "outputs": [],
   "source": [
    "drop_col_list=['year','DOW_Friday','DOW_Monday','DOW_Saturday','DOW_Sunday','DOW_Thursday','DOW_Tuesday','DOW_Wednesday','TS_afternoon',\n",
    "              'WDT_weekdays','WDT_weekends','TS_morning','month','time_min' ,'TS_evening','day','rv1','rv2','Visibility','Windspeed',\n",
    "               'T9','lights','T7'\n",
    "               ,'Tdewpoint']\n",
    "#           ,'RH_out','T_out','T5','T4']\n",
    "x_train=df_train.iloc[:,1:]\n",
    "y_train=df_train['Appliances']\n",
    "x_train.drop(drop_col_list,axis=1,inplace=True)\n",
    "scaler.fit(x_train)\n",
    "x_train_sc=scaler.transform(x_train)\n",
    "x_test=df_test.iloc[:,1:]\n",
    "x_test.drop(drop_col_list,axis=1,inplace=True)\n",
    "#x_test=x_test[col_list]\n",
    "y_test=df_test['Appliances']\n",
    "x_test_sc=scaler.transform(x_test)"
   ]
  },
  {
   "cell_type": "code",
   "execution_count": 326,
   "metadata": {},
   "outputs": [
    {
     "name": "stdout",
     "output_type": "stream",
     "text": [
      "R2   : 0.999997098311\n",
      "MAE  : 0.0374766366221\n",
      "RMSE : 0.11407937878\n",
      "MAPE : 0.0670381095246\n"
     ]
    }
   ],
   "source": [
    "rf=RandomForestRegressor(bootstrap=False, criterion='mse', max_depth=35,\n",
    "           max_features='sqrt', max_leaf_nodes=None,\n",
    "           min_impurity_decrease=0.0, min_impurity_split=None,\n",
    "           min_samples_leaf=1, min_samples_split=2,\n",
    "           min_weight_fraction_leaf=0.0, n_estimators=258, n_jobs=1,\n",
    "           oob_score=False, random_state=42, verbose=0, warm_start=False)\n",
    "rf.fit(x_train_sc, y_train)\n",
    "y_train_pred=rf.predict(x_train_sc)\n",
    "print(\"R2   :\",r2_score(y_train,y_train_pred))\n",
    "print(\"MAE  :\",mean_absolute_error(y_train,y_train_pred))\n",
    "print(\"RMSE :\",np.sqrt(mean_squared_error(y_train,y_train_pred)))\n",
    "print(\"MAPE :\",mean_absolute_percentage_error(y_train,y_train_pred))"
   ]
  },
  {
   "cell_type": "code",
   "execution_count": 327,
   "metadata": {},
   "outputs": [
    {
     "name": "stdout",
     "output_type": "stream",
     "text": [
      "Variable: time_hr_24           Importance: 0.08\n",
      "Variable: RH_3                 Importance: 0.06\n",
      "Variable: TS_night             Importance: 0.06\n",
      "Variable: RH_1                 Importance: 0.05\n",
      "Variable: T3                   Importance: 0.05\n",
      "Variable: T8                   Importance: 0.05\n",
      "Variable: RH_8                 Importance: 0.05\n",
      "Variable: RH_9                 Importance: 0.05\n",
      "Variable: Press_mm_hg          Importance: 0.05\n",
      "Variable: T1                   Importance: 0.04\n",
      "Variable: T2                   Importance: 0.04\n",
      "Variable: RH_2                 Importance: 0.04\n",
      "Variable: T4                   Importance: 0.04\n",
      "Variable: RH_4                 Importance: 0.04\n",
      "Variable: T5                   Importance: 0.04\n",
      "Variable: RH_5                 Importance: 0.04\n",
      "Variable: T6                   Importance: 0.04\n",
      "Variable: RH_6                 Importance: 0.04\n",
      "Variable: RH_7                 Importance: 0.04\n",
      "Variable: T_out                Importance: 0.04\n",
      "Variable: RH_out               Importance: 0.04\n"
     ]
    }
   ],
   "source": [
    "feature_list = list(x_train.columns)\n",
    "importances = list(rf.feature_importances_)\n",
    "feature_importances = [(x_train, round(importance, 2)) for x_train, importance in zip(feature_list, importances)]\n",
    "feature_importances = sorted(feature_importances, key = lambda x: x[1], reverse = True)\n",
    "[print('Variable: {:20} Importance: {}'.format(*pair)) for pair in feature_importances];"
   ]
  },
  {
   "cell_type": "code",
   "execution_count": 328,
   "metadata": {},
   "outputs": [
    {
     "name": "stdout",
     "output_type": "stream",
     "text": [
      "R2   : 0.57042010372\n",
      "MAE  : 20.5130126239\n",
      "RMSE : 42.2935229173\n",
      "MAPE : 24.750752227\n"
     ]
    }
   ],
   "source": [
    "y_test_pred=rf.predict(x_test_sc)\n",
    "print(\"R2   :\",r2_score(y_test,y_test_pred))\n",
    "print(\"MAE  :\",mean_absolute_error(y_test,y_test_pred))\n",
    "print(\"RMSE :\",np.sqrt(mean_squared_error(y_test,y_test_pred)))\n",
    "print(\"MAPE :\",mean_absolute_percentage_error(y_test,y_test_pred))\n",
    "# R2   : 0.57042010372\n",
    "# MAE  : 20.5130126239\n",
    "# RMSE : 42.2935229173\n",
    "# MAPE : 24.750752227 258"
   ]
  },
  {
   "cell_type": "code",
   "execution_count": null,
   "metadata": {
    "collapsed": true
   },
   "outputs": [],
   "source": []
  }
 ],
 "metadata": {
  "kernelspec": {
   "display_name": "Python 3",
   "language": "python",
   "name": "python3"
  },
  "language_info": {
   "codemirror_mode": {
    "name": "ipython",
    "version": 3
   },
   "file_extension": ".py",
   "mimetype": "text/x-python",
   "name": "python",
   "nbconvert_exporter": "python",
   "pygments_lexer": "ipython3",
   "version": "3.6.3"
  }
 },
 "nbformat": 4,
 "nbformat_minor": 2
}
