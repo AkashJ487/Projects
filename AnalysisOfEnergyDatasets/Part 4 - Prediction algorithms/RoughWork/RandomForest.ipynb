{
 "cells": [
  {
   "cell_type": "code",
   "execution_count": 55,
   "metadata": {
    "collapsed": true
   },
   "outputs": [],
   "source": [
    "import pandas as pd\n",
    "import datetime\n",
    "import numpy as np\n",
    "import sklearn\n",
    "from sklearn.ensemble import RandomForestRegressor\n",
    "from sklearn.model_selection import RandomizedSearchCV\n",
    "from sklearn.metrics import *\n",
    "from sklearn.preprocessing import StandardScaler\n",
    "scaler = StandardScaler()\n",
    "def mean_absolute_percentage_error(y_true, y_pred): \n",
    "        y_true, y_pred = np.array(y_true), np.array(y_pred)\n",
    "        return np.mean(np.abs((y_true - y_pred) / y_true)) * 100\n",
    "df_train=pd.read_csv(\"C:/Users/Akash/Documents/ADS/Assignment2/Appliances-energy-prediction-data-master/training.csv\")\n",
    "df_train['date']=pd.to_datetime(df_train['date'])\n",
    "df_train['year']=df_train['date'].dt.year\n",
    "df_train['month']=df_train['date'].dt.month\n",
    "df_train['day']=df_train['date'].dt.day\n",
    "df_train['time_hr_24']=df_train['date'].dt.hour\n",
    "df_train['time_min']=df_train['date'].dt.minute\n",
    "morning=range(6,12)\n",
    "afternoon=range(12,17)\n",
    "evening=range(17,22)\n",
    "def time_slot(x):\n",
    "    if x in morning:\n",
    "        return 'morning'\n",
    "    elif x in afternoon:\n",
    "        return 'afternoon'\n",
    "    elif x in evening:\n",
    "        return 'evening'\n",
    "    else:\n",
    "        return 'night'\n",
    "df_train['time_slot']=df_train['time_hr_24'].map(time_slot)\n",
    "df_train.drop(['date','year','time_hr_24'],axis=1,inplace=True)\n",
    "df_train=pd.get_dummies(df_train,prefix=['WS','DOW','TS'],columns=['WeekStatus','Day_of_week','time_slot'])\n",
    "#print(df_train.iloc[:,:].describe())"
   ]
  },
  {
   "cell_type": "code",
   "execution_count": 56,
   "metadata": {},
   "outputs": [],
   "source": [
    "#for training dataset\n",
    "x_train=df_train.iloc[:,1:]\n",
    "y_train=df_train['Appliances']\n",
    "col_list=['NSM','RH_1','RH_2','T3','RH_3','Press_mm_hg','TS_night','T1','T2','T4','RH_4','T5','RH_5','T6','RH_6',\n",
    "                       'T7','RH_7','T8','RH_8','RH_9','T_out','RH_out','Windspeed','Tdewpoint']\n",
    "x_train=x_train[col_list]\n",
    "scaler.fit(x_train)\n",
    "x_train=scaler.transform(x_train)\n",
    "#x_train.head()"
   ]
  },
  {
   "cell_type": "code",
   "execution_count": 3,
   "metadata": {
    "collapsed": true
   },
   "outputs": [],
   "source": [
    "def evaluate(model,x_true,y_true):\n",
    "    y_pred=model.predict(x_true)\n",
    "    def mean_absolute_percentage_error(y_true, y_pred): \n",
    "        y_true, y_pred = np.array(y_true), np.array(y_pred)\n",
    "        return np.mean(np.abs((y_true - y_pred) / y_true)) * 100\n",
    "    print(\"R2   :\",r2_score(y_train,y_train_pred))\n",
    "    print(\"MAE  :\",mean_absolute_error(y_train,y_train_pred))\n",
    "    print(\"RMSE :\",np.sqrt(mean_squared_error(y_train,y_train_pred)))\n",
    "    print(\"MAPE :\",mean_absolute_percentage_error(y_train,y_train_pred))"
   ]
  },
  {
   "cell_type": "code",
   "execution_count": 57,
   "metadata": {},
   "outputs": [
    {
     "name": "stdout",
     "output_type": "stream",
     "text": [
      "R2   : 0.946400955853\n",
      "MAE  : 10.9912972201\n",
      "RMSE : 23.8053912194\n",
      "MAPE : 10.6006135341\n"
     ]
    }
   ],
   "source": [
    "# rf = RandomForestRegressor(bootstrap=True, criterion='mse', max_depth=10,\n",
    "#            max_features='sqrt', max_leaf_nodes=None,\n",
    "#            min_impurity_decrease=0.0, min_impurity_split=None,\n",
    "#            min_samples_leaf=4, min_samples_split=2,\n",
    "#            min_weight_fraction_leaf=0.0, n_estimators=822, n_jobs=1,\n",
    "#            oob_score=False, random_state=None, verbose=0, warm_start=False)\n",
    "rf=RandomForestRegressor(n_estimators=822,max_features='sqrt',random_state=42)\n",
    "#'n_estimators': 822, 'min_samples_split': 2, 'min_samples_leaf': 4, 'max_features': 'sqrt', 'max_depth': 10, 'bootstrap': True\n",
    "rf.fit(x_train, y_train)\n",
    "y_train_pred=rf.predict(x_train)\n",
    "print(\"R2   :\",r2_score(y_train,y_train_pred))\n",
    "print(\"MAE  :\",mean_absolute_error(y_train,y_train_pred))\n",
    "print(\"RMSE :\",np.sqrt(mean_squared_error(y_train,y_train_pred)))\n",
    "print(\"MAPE :\",mean_absolute_percentage_error(y_train,y_train_pred))\n",
    "#evaluate(rf,x_train,y_train)"
   ]
  },
  {
   "cell_type": "code",
   "execution_count": 32,
   "metadata": {},
   "outputs": [
    {
     "name": "stdout",
     "output_type": "stream",
     "text": [
      "{'n_estimators': [200, 288, 377, 466, 555, 644, 733, 822, 911, 1000], 'max_features': ['auto', 'sqrt'], 'max_depth': [10, 20, 30, 40, 50, 60, 70, 80, 90, 100, 110, None], 'min_samples_split': [2, 5, 10], 'min_samples_leaf': [1, 2, 4], 'bootstrap': [True, False]}\n"
     ]
    }
   ],
   "source": [
    "#Random Hyperparameter Grid\n",
    "# Number of trees in random forest\n",
    "n_estimators = [int(x) for x in np.linspace(start = 200, stop = 1000, num = 10)]\n",
    "# Number of features to consider at every split\n",
    "max_features = ['auto', 'sqrt']\n",
    "# Maximum number of levels in tree\n",
    "max_depth = [int(x) for x in np.linspace(10, 110, num = 11)]\n",
    "max_depth.append(None)\n",
    "# Minimum number of samples required to split a node\n",
    "min_samples_split = [2, 5, 10]\n",
    "# Minimum number of samples required at each leaf node\n",
    "min_samples_leaf = [1, 2, 4]\n",
    "# Method of selecting samples for training each tree\n",
    "bootstrap = [True, False]\n",
    "# Create the random grid\n",
    "random_grid = {'n_estimators': n_estimators,\n",
    "               'max_features': max_features,\n",
    "               'max_depth': max_depth,\n",
    "               'min_samples_split': min_samples_split,\n",
    "               'min_samples_leaf': min_samples_leaf,\n",
    "               'bootstrap': bootstrap}\n",
    "print(random_grid)"
   ]
  },
  {
   "cell_type": "code",
   "execution_count": 33,
   "metadata": {},
   "outputs": [
    {
     "name": "stdout",
     "output_type": "stream",
     "text": [
      "Fitting 3 folds for each of 100 candidates, totalling 300 fits\n"
     ]
    },
    {
     "name": "stderr",
     "output_type": "stream",
     "text": [
      "[Parallel(n_jobs=-1)]: Done  25 tasks      | elapsed: 10.0min\n",
      "[Parallel(n_jobs=-1)]: Done 146 tasks      | elapsed: 45.2min\n",
      "[Parallel(n_jobs=-1)]: Done 300 out of 300 | elapsed: 110.9min finished\n"
     ]
    },
    {
     "name": "stdout",
     "output_type": "stream",
     "text": [
      "{'n_estimators': 822, 'min_samples_split': 2, 'min_samples_leaf': 4, 'max_features': 'sqrt', 'max_depth': 10, 'bootstrap': True}\n",
      "R2   : 0.481883611503\n",
      "MAE  : 38.9954241542\n",
      "RMSE : 74.0134188113\n",
      "MAPE : 42.7510797414\n"
     ]
    }
   ],
   "source": [
    "# Use the random grid to search for best hyperparameters\n",
    "# First create the base model to tune\n",
    "rdf = RandomForestRegressor()\n",
    "# Random search of parameters, using 3 fold cross validation, \n",
    "# search across 100 different combinations, and use all available cores\n",
    "rf_random = RandomizedSearchCV(estimator = rdf, param_distributions = random_grid, n_iter = 100, cv = 3, verbose=2, random_state=42, n_jobs = -1)\n",
    "# Fit the random search model\n",
    "rf_random.fit(x_train, y_train)\n",
    "print(rf_random.best_params_)\n",
    "model=rf_random.best_estimator_\n",
    "#evaluate(model,x_train,y_train)\n",
    "y_train_pred=model.predict(x_train)\n",
    "print(\"R2   :\",r2_score(y_train,y_train_pred))\n",
    "print(\"MAE  :\",mean_absolute_error(y_train,y_train_pred))\n",
    "print(\"RMSE :\",np.sqrt(mean_squared_error(y_train,y_train_pred)))\n",
    "print(\"MAPE :\",mean_absolute_percentage_error(y_train,y_train_pred))"
   ]
  },
  {
   "cell_type": "code",
   "execution_count": 142,
   "metadata": {},
   "outputs": [
    {
     "name": "stdout",
     "output_type": "stream",
     "text": [
      "R2   : 0.500598856623\n",
      "MAE  : 38.1238976778\n",
      "RMSE : 72.6643790823\n",
      "MAPE : 41.3946574802\n"
     ]
    }
   ],
   "source": [
    "y_train_pred=model.predict(x_train)\n",
    "print(\"R2   :\",r2_score(y_train,y_train_pred))\n",
    "print(\"MAE  :\",mean_absolute_error(y_train,y_train_pred))\n",
    "print(\"RMSE :\",np.sqrt(mean_squared_error(y_train,y_train_pred)))\n",
    "print(\"MAPE :\",mean_absolute_percentage_error(y_train,y_train_pred))"
   ]
  },
  {
   "cell_type": "code",
   "execution_count": 143,
   "metadata": {
    "collapsed": true
   },
   "outputs": [],
   "source": [
    "# Get numerical feature importances\n",
    "# feature_list = list(x_train.columns)\n",
    "# importances = list(rf.feature_importances_)\n",
    "# feature_importances = [(x_train, round(importance, 2)) for x_train, importance in zip(feature_list, importances)]\n",
    "# feature_importances = sorted(feature_importances, key = lambda x: x[1], reverse = True)\n",
    "# [print('Variable: {:20} Importance: {}'.format(*pair)) for pair in feature_importances];"
   ]
  },
  {
   "cell_type": "code",
   "execution_count": 58,
   "metadata": {
    "collapsed": true
   },
   "outputs": [],
   "source": [
    "#for testing dataset\n",
    "df_test=pd.read_csv(\"C:/Users/Akash/Documents/ADS/Assignment2/Appliances-energy-prediction-data-master/testing.csv\")\n",
    "df_test['date']=pd.to_datetime(df_test['date'])\n",
    "df_test['year']=df_test['date'].dt.year\n",
    "df_test['month']=df_test['date'].dt.month\n",
    "df_test['day']=df_test['date'].dt.day\n",
    "df_test['time_hr_24']=df_test['date'].dt.hour\n",
    "df_test['time_min']=df_test['date'].dt.minute\n",
    "df_test['time_slot']=df_test['time_hr_24'].map(time_slot)\n",
    "df_test.drop(['date','year','time_hr_24'],axis=1,inplace=True)\n",
    "#df_test.head()\n",
    "df_test=pd.get_dummies(df_test,prefix=['WS','DOW','TS'],columns=['WeekStatus','Day_of_week','time_slot'])\n",
    "#print(df_test.describe())"
   ]
  },
  {
   "cell_type": "code",
   "execution_count": 59,
   "metadata": {},
   "outputs": [
    {
     "name": "stdout",
     "output_type": "stream",
     "text": [
      "Average baseline error:  59.08\n"
     ]
    }
   ],
   "source": [
    "x_test=df_test.iloc[:,1:]\n",
    "x_test=x_test[col_list]\n",
    "x_test=scaler.transform(x_test)\n",
    "y_test=df_test['Appliances']\n",
    "baseline_errors = abs(96.745742 - y_test)\n",
    "print('Average baseline error: ', round(np.mean(baseline_errors), 2))\n",
    "#evaluate(rf,x_test,y_test)"
   ]
  },
  {
   "cell_type": "code",
   "execution_count": 60,
   "metadata": {},
   "outputs": [
    {
     "name": "stdout",
     "output_type": "stream",
     "text": [
      "R2   : 0.593271230472\n",
      "MAE  : 29.4040976748\n",
      "RMSE : 64.7981154834\n",
      "MAPE : 28.7094120911\n"
     ]
    }
   ],
   "source": [
    "y_test_pred=rf.predict(x_test)\n",
    "print(\"R2   :\",r2_score(y_test,y_test_pred))\n",
    "print(\"MAE  :\",mean_absolute_error(y_test,y_test_pred))\n",
    "print(\"RMSE :\",np.sqrt(mean_squared_error(y_test,y_test_pred)))\n",
    "print(\"MAPE :\",mean_absolute_percentage_error(y_test,y_test_pred))"
   ]
  },
  {
   "cell_type": "code",
   "execution_count": 46,
   "metadata": {},
   "outputs": [
    {
     "name": "stdout",
     "output_type": "stream",
     "text": [
      "R2   : -0.388825498022\n",
      "MAE  : 104.587902455\n",
      "RMSE : 119.738487988\n",
      "MAPE : 167.712353593\n"
     ]
    }
   ],
   "source": [
    "y_test_pred1=model.predict(x_test)\n",
    "print(\"R2   :\",r2_score(y_test,y_test_pred1))\n",
    "print(\"MAE  :\",mean_absolute_error(y_test,y_test_pred1))\n",
    "print(\"RMSE :\",np.sqrt(mean_squared_error(y_test,y_test_pred1)))\n",
    "print(\"MAPE :\",mean_absolute_percentage_error(y_test,y_test_pred1))"
   ]
  },
  {
   "cell_type": "code",
   "execution_count": 22,
   "metadata": {},
   "outputs": [
    {
     "name": "stdout",
     "output_type": "stream",
     "text": [
      "Variable: NSM                  Importance: 0.09\n",
      "Variable: T3                   Importance: 0.05\n",
      "Variable: RH_3                 Importance: 0.05\n",
      "Variable: RH_1                 Importance: 0.04\n",
      "Variable: RH_2                 Importance: 0.04\n",
      "Variable: Press_mm_hg          Importance: 0.04\n",
      "Variable: TS_night             Importance: 0.04\n",
      "Variable: T2                   Importance: 0.04\n",
      "Variable: RH_4                 Importance: 0.04\n",
      "Variable: T5                   Importance: 0.04\n",
      "Variable: RH_5                 Importance: 0.04\n",
      "Variable: T6                   Importance: 0.04\n",
      "Variable: RH_6                 Importance: 0.04\n",
      "Variable: RH_7                 Importance: 0.04\n",
      "Variable: T8                   Importance: 0.04\n",
      "Variable: RH_8                 Importance: 0.04\n",
      "Variable: RH_9                 Importance: 0.04\n",
      "Variable: T_out                Importance: 0.04\n",
      "Variable: RH_out               Importance: 0.04\n",
      "Variable: Tdewpoint            Importance: 0.04\n",
      "Variable: T1                   Importance: 0.03\n",
      "Variable: T4                   Importance: 0.03\n",
      "Variable: T7                   Importance: 0.03\n",
      "Variable: Windspeed            Importance: 0.03\n"
     ]
    }
   ],
   "source": [
    "# Get numerical feature importances\n",
    "feature_list = list(x_train.columns)\n",
    "importances = list(rf.feature_importances_)\n",
    "feature_importances = [(x_train, round(importance, 2)) for x_train, importance in zip(feature_list, importances)]\n",
    "feature_importances = sorted(feature_importances, key = lambda x: x[1], reverse = True)\n",
    "[print('Variable: {:20} Importance: {}'.format(*pair)) for pair in feature_importances];"
   ]
  },
  {
   "cell_type": "code",
   "execution_count": 147,
   "metadata": {},
   "outputs": [
    {
     "name": "stdout",
     "output_type": "stream",
     "text": [
      "R2   : 0.500598856623\n",
      "MAE  : 38.1238976778\n",
      "RMSE : 72.6643790823\n",
      "MAPE : 41.3946574802\n"
     ]
    }
   ],
   "source": [
    "evaluate(model,x_test,y_test)"
   ]
  },
  {
   "cell_type": "code",
   "execution_count": 38,
   "metadata": {},
   "outputs": [
    {
     "data": {
      "text/plain": [
       "RandomForestRegressor(bootstrap=True, criterion='mse', max_depth=10,\n",
       "           max_features='sqrt', max_leaf_nodes=None,\n",
       "           min_impurity_decrease=0.0, min_impurity_split=None,\n",
       "           min_samples_leaf=4, min_samples_split=2,\n",
       "           min_weight_fraction_leaf=0.0, n_estimators=822, n_jobs=1,\n",
       "           oob_score=False, random_state=None, verbose=0, warm_start=False)"
      ]
     },
     "execution_count": 38,
     "metadata": {},
     "output_type": "execute_result"
    }
   ],
   "source": [
    "rf_random.best_estimator_"
   ]
  },
  {
   "cell_type": "code",
   "execution_count": null,
   "metadata": {
    "collapsed": true
   },
   "outputs": [],
   "source": []
  }
 ],
 "metadata": {
  "kernelspec": {
   "display_name": "Python 3",
   "language": "python",
   "name": "python3"
  },
  "language_info": {
   "codemirror_mode": {
    "name": "ipython",
    "version": 3
   },
   "file_extension": ".py",
   "mimetype": "text/x-python",
   "name": "python",
   "nbconvert_exporter": "python",
   "pygments_lexer": "ipython3",
   "version": "3.6.3"
  }
 },
 "nbformat": 4,
 "nbformat_minor": 2
}
